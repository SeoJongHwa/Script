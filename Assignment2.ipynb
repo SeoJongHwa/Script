{
 "cells": [
  {
   "cell_type": "markdown",
   "metadata": {},
   "source": [
    "문제① 다음 6 개의 Expression에 대해 Evaluation 결과 값을 출력하고, 해당 결과가 나온 이유에 대해 설명하시오\n",
    "\n",
    " \n",
    "\n",
    "▶ 1 and 2 and 3 and 4\n",
    "\n",
    "▶ 1 or 2 or 3 or 4\n",
    "\n",
    "▶ 1 and 2 or 3 and 4\n",
    "\n",
    "▶ (1 and 2) or (3 and 4)\n",
    "\n",
    "▶ 1 or 2 and 3 or 4\n",
    "\n",
    "▶ (1 or 2) and (3 or 4)"
   ]
  },
  {
   "cell_type": "code",
   "execution_count": 4,
   "metadata": {
    "collapsed": false
   },
   "outputs": [
    {
     "data": {
      "text/plain": [
       "4"
      ]
     },
     "execution_count": 4,
     "metadata": {},
     "output_type": "execute_result"
    }
   ],
   "source": [
    "1 and 2 and 3 and 4"
   ]
  },
  {
   "cell_type": "markdown",
   "metadata": {},
   "source": [
    "앞이 참이여도 and 연산자는 뒤의 항목도 보아야한다. 2,3 도 계속 참으로 인식하여 마지막의 4를 출력한다."
   ]
  },
  {
   "cell_type": "code",
   "execution_count": 5,
   "metadata": {
    "collapsed": false,
    "scrolled": true
   },
   "outputs": [
    {
     "data": {
      "text/plain": [
       "1"
      ]
     },
     "execution_count": 5,
     "metadata": {},
     "output_type": "execute_result"
    }
   ],
   "source": [
    "1 or 2 or 3 or 4"
   ]
  },
  {
   "cell_type": "markdown",
   "metadata": {},
   "source": [
    "or 연산의 경우 앞에가 참이면 뒤의 값은 상관없이 참이기 때문에 뒤를 보지 않고 앞의 1을 출력한다."
   ]
  },
  {
   "cell_type": "code",
   "execution_count": 6,
   "metadata": {
    "collapsed": false
   },
   "outputs": [
    {
     "data": {
      "text/plain": [
       "2"
      ]
     },
     "execution_count": 6,
     "metadata": {},
     "output_type": "execute_result"
    }
   ],
   "source": [
    "1 and 2 or 3 and 4"
   ]
  },
  {
   "cell_type": "markdown",
   "metadata": {},
   "source": [
    "앞의 and 연산자로 인하여 2를 보고 or가 나왔기 때문에 2가 참이라 뒤를 보지않고 2를 출력한다."
   ]
  },
  {
   "cell_type": "code",
   "execution_count": 7,
   "metadata": {
    "collapsed": false
   },
   "outputs": [
    {
     "data": {
      "text/plain": [
       "2"
      ]
     },
     "execution_count": 7,
     "metadata": {},
     "output_type": "execute_result"
    }
   ],
   "source": [
    "(1 and 2) or (3 and 4)"
   ]
  },
  {
   "cell_type": "markdown",
   "metadata": {},
   "source": [
    "(1 and 2)부분에서 둘다 참이라서 뒤의 2를 가르키고 or기 때문에 앞의 2를 출력한다. 하지만 이 때 3 and 4도 계산되어 있다."
   ]
  },
  {
   "cell_type": "code",
   "execution_count": 8,
   "metadata": {
    "collapsed": false,
    "scrolled": false
   },
   "outputs": [
    {
     "data": {
      "text/plain": [
       "1"
      ]
     },
     "execution_count": 8,
     "metadata": {},
     "output_type": "execute_result"
    }
   ],
   "source": [
    "1 or 2 and 3 or 4"
   ]
  },
  {
   "cell_type": "markdown",
   "metadata": {},
   "source": [
    "제일 앞이 or 연산이기 때문에 1만 출력한다."
   ]
  },
  {
   "cell_type": "code",
   "execution_count": 9,
   "metadata": {
    "collapsed": false
   },
   "outputs": [
    {
     "data": {
      "text/plain": [
       "3"
      ]
     },
     "execution_count": 9,
     "metadata": {},
     "output_type": "execute_result"
    }
   ],
   "source": [
    "(1 or 2) and (3 or 4)"
   ]
  },
  {
   "cell_type": "markdown",
   "metadata": {},
   "source": [
    "괄호를 먼저 연산하여 앞은 1, 뒤는 3을 각각 보고있고 and 이기때문에 뒤의 3을 출력한다."
   ]
  },
  {
   "cell_type": "markdown",
   "metadata": {},
   "source": [
    "문제② 키보드로 정수값을 입력 받고 그 값이 양수인지 음수인지를 비트 연산자를 이용하여 판단하는 프로그램을 작성하시오.\n",
    "\n",
    " \n",
    "\n",
    "▶[참고] 가장 왼쪽에 있는 비트가 0이면 양수이며, 1이면 음수이다.\n",
    "\n",
    "▶[참고] 수업보충자료 (https://github.com/bluebibi/python-e-learning/blob/master/supplement.ipynb) 를 참고하시오."
   ]
  },
  {
   "cell_type": "code",
   "execution_count": 3,
   "metadata": {
    "collapsed": false,
    "scrolled": true
   },
   "outputs": [
    {
     "name": "stdout",
     "output_type": "stream",
     "text": [
      "Number? -2\n",
      "입력한 정수는 음수입니다.\n"
     ]
    }
   ],
   "source": [
    "n = int(raw_input(\"Number? \"))\n",
    "a = n\n",
    "        \n",
    "if ((n >> 32) == 0):\n",
    "    print '입력한 정수는 양수입니다.'\n",
    "else :\n",
    "    print '입력한 정수는 음수입니다.'"
   ]
  },
  {
   "cell_type": "markdown",
   "metadata": {},
   "source": [
    "문제③ 경로에 해당하는 문자열 1개를 입력 받아 그 안에 디렉토리 경로명과 파일명을 분리하여 리스트로 반환하는 함수 div_path(s)를 작성하시오.\n",
    "\n",
    "▶ 인자로 전달하는 문자열은 경로만 들어간다고 가정한다.\n",
    "\n",
    "▶ 각 디렉토리와 파일을 구분하는 문자는 '/'로 가정한다.\n",
    "\n",
    "▶ 반환하는 리스트의 첫번째 원소는 디렉토리이고 두번째 원소는 파일명이다.\n",
    "\n",
    "▶ 다음과 같은 실행 및 출력 결과가 도출되어야 한다.\n",
    "\n",
    "▷ div_path('/usr/local/bin/python')\n",
    "\n",
    "▷ ['/usr/local/bin', 'python']\n",
    "\n",
    "▷ div_path('/home/chulsoo/test.txt')\n",
    "\n",
    "▷ ['/home/chulsoo', 'test.txt']\n",
    "\n",
    "▶ [참고] 리스트(l) 내에 새로운 정수값 (예를 들어 10)을 넣는 방법은 l.append(10) 이다."
   ]
  },
  {
   "cell_type": "code",
   "execution_count": 4,
   "metadata": {
    "collapsed": false
   },
   "outputs": [
    {
     "name": "stdout",
     "output_type": "stream",
     "text": [
      "['Desktop/script/', 'python']\n"
     ]
    }
   ],
   "source": [
    "def div_path(path):\n",
    "    result = []\n",
    "    div = '/'\n",
    "    div_s= path.split(div)\n",
    "    \n",
    "    t = \"\"\n",
    "    \n",
    "    for i in range(len(div_s)):\n",
    "       if(i!=len(div_s)-1):\n",
    "           t+=div_s[i]\n",
    "           t+=div\n",
    "    \n",
    "    result.append(t)\n",
    "    result.append(div_s[i])\n",
    "    \n",
    "    return result \n",
    "\n",
    "print div_path('Desktop/script/python')"
   ]
  },
  {
   "cell_type": "markdown",
   "metadata": {},
   "source": [
    "● [프로젝트 오일러 문제 [4]\n",
    "\n",
    "앞에서부터 읽을 때나 뒤에서부터 읽을 때나 모양이 같은 수를 대칭수(palindrome)라고 부릅니다.\n",
    "\n",
    "두 자리 수를 곱해 만들 수 있는 대칭수 중 가장 큰 수는 9009 (= 91 × 99) 입니다.\n",
    "\n",
    "세 자리 수를 곱해 만들 수 있는 가장 큰 대칭수는 얼마입니까?"
   ]
  },
  {
   "cell_type": "code",
   "execution_count": 8,
   "metadata": {
    "collapsed": false
   },
   "outputs": [
    {
     "name": "stdout",
     "output_type": "stream",
     "text": [
      "906609\n"
     ]
    }
   ],
   "source": [
    "def is_palin(n):\n",
    "    length = len(str(n))/2\n",
    "    for i in range(0,length):\n",
    "        if str(n)[i] != str(n)[-i-1]:\n",
    "            return 0\n",
    "    return 1\n",
    " \n",
    "result = 0\n",
    " \n",
    "for a in range(100,1000):\n",
    "    for b in range(100,1000):\n",
    "        if is_palin(a*b):\n",
    "            result = max(result, a*b)\n",
    "print result"
   ]
  },
  {
   "cell_type": "markdown",
   "metadata": {},
   "source": [
    "● [프로젝트 오일러 문제 [5]\n",
    "\n",
    "1 ~ 10 사이의 어떤 수로도 나누어 떨어지는 가장 작은 수는 2520입니다.\n",
    "\n",
    "그러면 1 ~ 20 사이의 어떤 수로도 나누어 떨어지는 가장 작은 수는 얼마입니까?"
   ]
  },
  {
   "cell_type": "code",
   "execution_count": 54,
   "metadata": {
    "collapsed": false
   },
   "outputs": [
    {
     "ename": "MemoryError",
     "evalue": "",
     "output_type": "error",
     "traceback": [
      "\u001b[1;31m---------------------------------------------------------------------------\u001b[0m",
      "\u001b[1;31mMemoryError\u001b[0m                               Traceback (most recent call last)",
      "\u001b[1;32m<ipython-input-54-3f85b62f7a1a>\u001b[0m in \u001b[0;36m<module>\u001b[1;34m()\u001b[0m\n\u001b[1;32m----> 1\u001b[1;33m \u001b[1;32mfor\u001b[0m \u001b[0mi\u001b[0m \u001b[1;32min\u001b[0m \u001b[0mrange\u001b[0m\u001b[1;33m(\u001b[0m\u001b[1;36m20\u001b[0m\u001b[1;33m,\u001b[0m\u001b[1;36m999999999\u001b[0m\u001b[1;33m,\u001b[0m\u001b[1;36m20\u001b[0m\u001b[1;33m)\u001b[0m\u001b[1;33m:\u001b[0m\u001b[1;33m\u001b[0m\u001b[0m\n\u001b[0m\u001b[0;32m      2\u001b[0m     \u001b[1;32mfor\u001b[0m \u001b[0ma\u001b[0m \u001b[1;32min\u001b[0m \u001b[0mrange\u001b[0m\u001b[1;33m(\u001b[0m\u001b[1;36m1\u001b[0m\u001b[1;33m,\u001b[0m\u001b[1;36m20\u001b[0m\u001b[1;33m)\u001b[0m\u001b[1;33m:\u001b[0m\u001b[1;33m\u001b[0m\u001b[0m\n\u001b[0;32m      3\u001b[0m         \u001b[1;32mif\u001b[0m \u001b[0mi\u001b[0m\u001b[1;33m%\u001b[0m\u001b[0ma\u001b[0m \u001b[1;33m!=\u001b[0m \u001b[1;36m0\u001b[0m\u001b[1;33m:\u001b[0m\u001b[1;33m\u001b[0m\u001b[0m\n\u001b[0;32m      4\u001b[0m             \u001b[1;32mbreak\u001b[0m\u001b[1;33m\u001b[0m\u001b[0m\n\u001b[0;32m      5\u001b[0m         \u001b[1;32mif\u001b[0m \u001b[0ma\u001b[0m \u001b[1;33m>=\u001b[0m \u001b[1;36m19\u001b[0m\u001b[1;33m:\u001b[0m\u001b[1;33m\u001b[0m\u001b[0m\n",
      "\u001b[1;31mMemoryError\u001b[0m: "
     ]
    }
   ],
   "source": [
    "for i in range(20,999999999,20):\n",
    "    for a in range(1,20):\n",
    "        if i%a != 0:\n",
    "            break\n",
    "        if a >= 19:\n",
    "            print i"
   ]
  },
  {
   "cell_type": "markdown",
   "metadata": {},
   "source": [
    "● [프로젝트 오일러 문제 [6]\n",
    "\n",
    "1부터 10까지 자연수를 각각 제곱해 더하면 다음과 같습니다 (제곱의 합).\n",
    "\n",
    "12 + 22 + ... + 102 = 385\n",
    "\n",
    "1부터 10을 먼저 더한 다음에 그 결과를 제곱하면 다음과 같습니다 (합의 제곱).\n",
    "\n",
    "(1 + 2 + ... + 10)2 = 552 = 3025\n",
    "\n",
    "따라서 1부터 10까지 자연수에 대해 \"합의 제곱\"과 \"제곱의 합\" 의 차이는 3025 - 385 = 2640 이 됩니다.\n",
    "\n",
    "그러면 1부터 100까지 자연수에 대해 \"합의 제곱\"과 \"제곱의 합\"의 차이는 얼마입니까?"
   ]
  },
  {
   "cell_type": "code",
   "execution_count": 28,
   "metadata": {
    "collapsed": false
   },
   "outputs": [
    {
     "name": "stdout",
     "output_type": "stream",
     "text": [
      " 25164150\n"
     ]
    }
   ],
   "source": [
    "result = 0\n",
    "result2 = 0\n",
    "for i in range(1,101):\n",
    "    result += i**2\n",
    "    result2+= i\n",
    "print result2**2 - result"
   ]
  },
  {
   "cell_type": "markdown",
   "metadata": {},
   "source": [
    "[Incremental Project] 웹 URL로 지정된 웹페이지를 문자열로 가져와 1) 모든 HTML 태그를 제외한 순수 텍스트 문자열만을 걸러내고, 2) 그 순수 텍스트 문자열 안에 존재하는 단어가 총 몇개인지 출력하는 프로그램을 작성하시오.  \n",
    "\n",
    " \n",
    "\n",
    "▶ HTML 태그는 다음 조건을 가지는 것이다.\n",
    "\n",
    "▷ < 로 시작하여 >로 끝난다.\n",
    "\n",
    "▷ 예를 들어, 아래와 같은 HTML 내용 내에 한 줄이 있다고 가정하자.\n",
    "\n",
    "<label for=\"keep_signed\">로그인 유지</label>▷ 위 소스에서 HTML 태그를 제외한 순수 텍스트 문자열은 아래와 같다.\n",
    "\n",
    "로그인 유지▷ 한편, 아래와 같은 HTML 한 줄이 있다고 가정하자.\n",
    "\n",
    "<link rel=\"stylesheet\" href=\"/common/css/xe.min.css?20150910092654\" />▷ 위 소스는 HTML 태그로만 구성된 것이며 걸러낼 수 있는 순수 텍스 문자열은 존재하지 않는다.\n",
    "\n",
    " \n",
    "\n",
    "▶ 단어를 나누는 기준은 오로지 공백문자 (whitespace)이다.\n",
    "\n",
    "▷ 즉, 위 순수 텍스트 문자열인 \"로그인 유지\"에서 분리한 단어는 \"로그인\"과 \"유지\"이다.\n",
    "\n",
    "▶ 다음은 URL로 지정된 웹페이지를 특정 문자열로 가져오는 코드이다. \n",
    "\n",
    "▷ 즉, 숙제 코드는 아래 링크를 참조 해야한다.\n",
    "\n",
    " \n",
    "\n",
    "http://nbviewer.ipython.org/github/bluebibi/python-e-learning/blob/master/assignment-2.ipynb\n"
   ]
  }
 ],
 "metadata": {
  "kernelspec": {
   "display_name": "Python 2",
   "language": "python",
   "name": "python2"
  },
  "language_info": {
   "codemirror_mode": {
    "name": "ipython",
    "version": 2
   },
   "file_extension": ".py",
   "mimetype": "text/x-python",
   "name": "python",
   "nbconvert_exporter": "python",
   "pygments_lexer": "ipython2",
   "version": "2.7.9"
  }
 },
 "nbformat": 4,
 "nbformat_minor": 0
}

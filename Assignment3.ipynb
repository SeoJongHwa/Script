{
 "cells": [
  {
   "cell_type": "markdown",
   "metadata": {},
   "source": [
    "#• L=[1, 2, 3, 4, 5]일 때 다음 각 문장을 수행한 후의 결과를 보고 납득할 만한 이유를 설명하시오. \n",
    "\n",
    "    ◾1)L[1:3] = [100]\n",
    "    print L\n",
    "\n",
    "    ◾2)L[1:3] = [(100)]\n",
    "    print L\n",
    "\n",
    "    ◾3)L[1:3] = 100\n",
    "    print L\n",
    "\n",
    "    ◾4)L[1:3] = (100)\n",
    "    print L\n",
    "\n",
    "    ◾5)L[1:3] = (100, 101, 102)\n",
    "    print L\n",
    "\n",
    "    ◾6)L[1:3] = [100, 101, 102]\n",
    "    print L\n",
    "\n",
    "    ◾7)L[1:3] = [(100, 101, 102)]\n",
    "    print L\n",
    "\n",
    "    ◾8)L[1:3] = [[100, 101, 102]]\n",
    "    print L\n",
    "\n"
   ]
  },
  {
   "cell_type": "code",
   "execution_count": 35,
   "metadata": {
    "collapsed": false
   },
   "outputs": [
    {
     "name": "stdout",
     "output_type": "stream",
     "text": [
      "[1, 100, 4, 5]\n"
     ]
    }
   ],
   "source": [
    "L=[1, 2, 3, 4, 5]\n",
    "\n",
    "L[1:3] = [100]\n",
    "print L"
   ]
  },
  {
   "cell_type": "markdown",
   "metadata": {},
   "source": [
    "슬라이싱으로 인덱스 1인 값 2부터 (3 - 1)로 2개인 3까지의 값을 100으로 바꾼다."
   ]
  },
  {
   "cell_type": "code",
   "execution_count": 36,
   "metadata": {
    "collapsed": false
   },
   "outputs": [
    {
     "name": "stdout",
     "output_type": "stream",
     "text": [
      "[1, 100, 4, 5]\n"
     ]
    }
   ],
   "source": [
    "L=[1, 2, 3, 4, 5]\n",
    "\n",
    "L[1:3] = [(100)]\n",
    "print L"
   ]
  },
  {
   "cell_type": "markdown",
   "metadata": {},
   "source": [
    "슬라이싱으로 인덱스 1인 값 2부터 (3 - 1)로 2개인 3까지의 값을 100으로 바꾼다."
   ]
  },
  {
   "cell_type": "code",
   "execution_count": 37,
   "metadata": {
    "collapsed": false
   },
   "outputs": [
    {
     "ename": "TypeError",
     "evalue": "can only assign an iterable",
     "output_type": "error",
     "traceback": [
      "\u001b[1;31m---------------------------------------------------------------------------\u001b[0m",
      "\u001b[1;31mTypeError\u001b[0m                                 Traceback (most recent call last)",
      "\u001b[1;32m<ipython-input-37-c04c9fee22a8>\u001b[0m in \u001b[0;36m<module>\u001b[1;34m()\u001b[0m\n\u001b[0;32m      1\u001b[0m \u001b[0mL\u001b[0m\u001b[1;33m=\u001b[0m\u001b[1;33m[\u001b[0m\u001b[1;36m1\u001b[0m\u001b[1;33m,\u001b[0m \u001b[1;36m2\u001b[0m\u001b[1;33m,\u001b[0m \u001b[1;36m3\u001b[0m\u001b[1;33m,\u001b[0m \u001b[1;36m4\u001b[0m\u001b[1;33m,\u001b[0m \u001b[1;36m5\u001b[0m\u001b[1;33m]\u001b[0m\u001b[1;33m\u001b[0m\u001b[0m\n\u001b[0;32m      2\u001b[0m \u001b[1;33m\u001b[0m\u001b[0m\n\u001b[1;32m----> 3\u001b[1;33m \u001b[0mL\u001b[0m\u001b[1;33m[\u001b[0m\u001b[1;36m1\u001b[0m\u001b[1;33m:\u001b[0m\u001b[1;36m3\u001b[0m\u001b[1;33m]\u001b[0m \u001b[1;33m=\u001b[0m \u001b[1;36m100\u001b[0m\u001b[1;33m\u001b[0m\u001b[0m\n\u001b[0m\u001b[0;32m      4\u001b[0m \u001b[1;32mprint\u001b[0m \u001b[0mL\u001b[0m\u001b[1;33m\u001b[0m\u001b[0m\n",
      "\u001b[1;31mTypeError\u001b[0m: can only assign an iterable"
     ]
    }
   ],
   "source": [
    "L=[1, 2, 3, 4, 5]\n",
    "\n",
    "L[1:3] = 100\n",
    "print L"
   ]
  },
  {
   "cell_type": "markdown",
   "metadata": {},
   "source": [
    "L은 리스트인데 값을 인트형식으로 주어서 타입 오류가 발생한다."
   ]
  },
  {
   "cell_type": "code",
   "execution_count": 2,
   "metadata": {
    "collapsed": false
   },
   "outputs": [
    {
     "ename": "TypeError",
     "evalue": "can only assign an iterable",
     "output_type": "error",
     "traceback": [
      "\u001b[1;31m---------------------------------------------------------------------------\u001b[0m",
      "\u001b[1;31mTypeError\u001b[0m                                 Traceback (most recent call last)",
      "\u001b[1;32m<ipython-input-2-07cc5677ae31>\u001b[0m in \u001b[0;36m<module>\u001b[1;34m()\u001b[0m\n\u001b[0;32m      1\u001b[0m \u001b[0mL\u001b[0m\u001b[1;33m=\u001b[0m\u001b[1;33m[\u001b[0m\u001b[1;36m1\u001b[0m\u001b[1;33m,\u001b[0m \u001b[1;36m2\u001b[0m\u001b[1;33m,\u001b[0m \u001b[1;36m3\u001b[0m\u001b[1;33m,\u001b[0m \u001b[1;36m4\u001b[0m\u001b[1;33m,\u001b[0m \u001b[1;36m5\u001b[0m\u001b[1;33m]\u001b[0m\u001b[1;33m\u001b[0m\u001b[0m\n\u001b[0;32m      2\u001b[0m \u001b[1;33m\u001b[0m\u001b[0m\n\u001b[1;32m----> 3\u001b[1;33m \u001b[0mL\u001b[0m\u001b[1;33m[\u001b[0m\u001b[1;36m1\u001b[0m\u001b[1;33m:\u001b[0m\u001b[1;36m3\u001b[0m\u001b[1;33m]\u001b[0m \u001b[1;33m=\u001b[0m \u001b[1;33m(\u001b[0m\u001b[1;36m100\u001b[0m\u001b[1;33m)\u001b[0m\u001b[1;33m\u001b[0m\u001b[0m\n\u001b[0m\u001b[0;32m      4\u001b[0m \u001b[1;32mprint\u001b[0m \u001b[0mL\u001b[0m\u001b[1;33m\u001b[0m\u001b[0m\n",
      "\u001b[1;31mTypeError\u001b[0m: can only assign an iterable"
     ]
    }
   ],
   "source": [
    "L=[1, 2, 3, 4, 5]\n",
    "\n",
    "L[1:3] = (100)\n",
    "print L"
   ]
  },
  {
   "cell_type": "markdown",
   "metadata": {},
   "source": [
    "L은 리스트인데 값을 튜플형식으로 주었기 때문에 타입 오류가 발생한다."
   ]
  },
  {
   "cell_type": "code",
   "execution_count": 44,
   "metadata": {
    "collapsed": false
   },
   "outputs": [
    {
     "name": "stdout",
     "output_type": "stream",
     "text": [
      "[1, 100, 101, 102, 4, 5]\n"
     ]
    }
   ],
   "source": [
    "L=[1, 2, 3, 4, 5]\n",
    "\n",
    "L[1:3] = (100, 101, 102)\n",
    "print L"
   ]
  },
  {
   "cell_type": "markdown",
   "metadata": {},
   "source": [
    "이것은 1,2번과 마찬가지로 2, 3 부분에 값이 들어갔다. 이 때 L에 들어가는 값이 튜플 자체를 넣었기 때문에 세 개가 전부 들어갔다."
   ]
  },
  {
   "cell_type": "code",
   "execution_count": 45,
   "metadata": {
    "collapsed": false
   },
   "outputs": [
    {
     "name": "stdout",
     "output_type": "stream",
     "text": [
      "[1, 100, 101, 102, 4, 5]\n"
     ]
    }
   ],
   "source": [
    "L=[1, 2, 3, 4, 5]\n",
    "\n",
    "L[1:3] = [100, 101, 102]\n",
    "print L"
   ]
  },
  {
   "cell_type": "markdown",
   "metadata": {},
   "source": [
    "슬라이싱으로 인덱스 1인 값 2부터 (3 - 1)로 2개인 3까지의 값을 100, 101, 102로 바꾼다."
   ]
  },
  {
   "cell_type": "code",
   "execution_count": 46,
   "metadata": {
    "collapsed": false,
    "scrolled": true
   },
   "outputs": [
    {
     "name": "stdout",
     "output_type": "stream",
     "text": [
      "[1, (100, 101, 102), 4, 5]\n"
     ]
    }
   ],
   "source": [
    "L=[1, 2, 3, 4, 5]\n",
    "\n",
    "L[1:3] = [(100, 101, 102)]\n",
    "print L"
   ]
  },
  {
   "cell_type": "markdown",
   "metadata": {},
   "source": [
    "슬라이싱으로 인덱스 1인 값 2부터 (3 - 1)로 2개인 3까지의 값을 (100, 101, 102)으로 바꾼다."
   ]
  },
  {
   "cell_type": "code",
   "execution_count": 42,
   "metadata": {
    "collapsed": false,
    "scrolled": true
   },
   "outputs": [
    {
     "name": "stdout",
     "output_type": "stream",
     "text": [
      "[1, [100, 101, 102], 4, 5]\n"
     ]
    }
   ],
   "source": [
    "L=[1, 2, 3, 4, 5]\n",
    "\n",
    "L[1:3] =b [[100, 101, 102]]\n",
    "print L"
   ]
  },
  {
   "cell_type": "markdown",
   "metadata": {},
   "source": [
    "슬라이싱으로 인덱스 1인 값 2부터 (3 - 1)로 2개인 3까지의 값을 [100, 101, 102]으로 바꾼다."
   ]
  },
  {
   "cell_type": "markdown",
   "metadata": {},
   "source": [
    "#• 문자열 S = 'Hello World and Python'에 대해 다음 요구사항에 대한 Python 코드를 제시하시오. \n",
    "\n",
    "    ◾1) 단어의 순서가 역순으로 되어진 문자열 ('Python and World Hello')을 만들고 \n",
    "    ◾2) 1)의 결과 문자열에 대해 메소드 split과 join을 이용하여 공백을 모두 없엔 문자열 'PythonandWorldHello'을 만드시오.\n",
    "\n"
   ]
  },
  {
   "cell_type": "code",
   "execution_count": 8,
   "metadata": {
    "collapsed": false
   },
   "outputs": [
    {
     "name": "stdout",
     "output_type": "stream",
     "text": [
      "['Hello', 'World', 'and', 'Python']\n",
      "PythonandWorldHello\n"
     ]
    }
   ],
   "source": [
    "S = 'Hello World and Python'\n",
    "s = S.split(' ')\n",
    "print s\n",
    "s.reverse()\n",
    "S = ''.join(s)\n",
    "print S"
   ]
  },
  {
   "cell_type": "markdown",
   "metadata": {},
   "source": [
    "#• 다음 코드를 보고 물음에 답하시오.\n",
    "\n",
    "    a = [1, 2, 3]\n",
    "    b = a * 3\n",
    "    c = [a] * 3\n",
    "    print b\n",
    "    print c\n",
    "\n",
    "◾1) 위 코드를 수행한 이후 다음 코드를 수행한 후 b와 c의 내용을 확인하시오.\n",
    "\n",
    "    a[0]=0\n",
    "\n",
    "◾2) b와 c 객체의 차이는 무엇인가?\n"
   ]
  },
  {
   "cell_type": "code",
   "execution_count": 54,
   "metadata": {
    "collapsed": false,
    "scrolled": false
   },
   "outputs": [
    {
     "name": "stdout",
     "output_type": "stream",
     "text": [
      "[1, 2, 3, 1, 2, 3, 1, 2, 3]\n",
      "[[1, 2, 3], [1, 2, 3], [1, 2, 3]]\n",
      "[1, 2, 3, 1, 2, 3, 1, 2, 3]\n",
      "[[0, 2, 3], [0, 2, 3], [0, 2, 3]]\n"
     ]
    }
   ],
   "source": [
    "a = [1, 2, 3]\n",
    "b = a * 3\n",
    "c = [a] * 3\n",
    "print b\n",
    "print c\n",
    "a[0]=0\n",
    "print b\n",
    "print c"
   ]
  },
  {
   "cell_type": "markdown",
   "metadata": {},
   "source": [
    "b의 경우에는 그냥 a의 값인 1,2,3을 반복하였다.\n",
    "\n",
    "c의 경우에는 a의 값을 리스트화시킨 것으로 [1, 2, 3]이 반복하여 들어갔다.\n",
    "\n",
    "print a와 print [a]를 하여 확실히 알 수 있었다.\n",
    "\n",
    "b와 c의 차이점은 b의 경우 a의 값 자체를 저장하였고 c의 경우에는 []리스트로 묶어서 a의 주소를 저장하였기 떄문에 a의 값을 변경시키면 따라서 변경된다."
   ]
  },
  {
   "cell_type": "markdown",
   "metadata": {},
   "source": [
    "#• 다음 문자열을 ':'을 기준으로 분리하여 리스트로 만들고 각 문자열의 좌우 공백을 제거하시오 (즉, 문자열 S에서 l을 만들어라) \n",
    "\n",
    "s = '  first star   :   second star   :    third star  '\n",
    "\n",
    "l = ['first star', 'second star', 'third star']\n",
    "\n",
    "◾1) for ~ in 문을 이용한 코드를 작성하시오. \n",
    "\n",
    "◾2) 리스트 내포(list comprehension)를 이용한 코드를 작성하시오.\n"
   ]
  },
  {
   "cell_type": "code",
   "execution_count": 12,
   "metadata": {
    "collapsed": false
   },
   "outputs": [
    {
     "name": "stdout",
     "output_type": "stream",
     "text": [
      "['  first star   ', '   second star   ', '    third star  ']\n",
      "['firststar', 'secondstar', 'thirdstar']\n"
     ]
    }
   ],
   "source": [
    "s = '  first star   :   second star   :    third star  '\n",
    "l = s.split(':')\n",
    "print l\n",
    "for i in range(len(l)):\n",
    "    l[i] = l[i].replace(' ', '')\n",
    "print l"
   ]
  },
  {
   "cell_type": "code",
   "execution_count": 13,
   "metadata": {
    "collapsed": false
   },
   "outputs": [
    {
     "name": "stdout",
     "output_type": "stream",
     "text": [
      "['  first star   ', '   second star   ', '    third star  ']\n",
      "['firststar', 'secondstar', 'thirdstar']\n"
     ]
    }
   ],
   "source": [
    "s = '  first star   :   second star   :    third star  '\n",
    "l = s.split(':')\n",
    "print l\n",
    "\n",
    "l = [l[i].replace(' ','') for i in range(len(l))]\n",
    "print l"
   ]
  },
  {
   "cell_type": "markdown",
   "metadata": {},
   "source": [
    "#• 다음과 같이 0보다 큰 정수 리스트 변수 list를 인자로 받는 함수 addall(list)와 addallodd(list)를 for ~ in 리터널과 리스트 내포 방식으로 각각 제시하시오.\n",
    "\n",
    "    ◾1) addall(list) 함수 (리스트 내의 모든 정수를 더하는 함수로서 해답으로는 for ~ in 리터럴과 리스트 내포 방식으로 각각 제시하시오.)\n",
    "    ◦\n",
    "        >>> addall([1])\n",
    "        1\n",
    "\n",
    "    ◦\n",
    "        >>> addall([1, 2, 3, 4, 5, 6, 7, 8, 9])\n",
    "        45\n",
    "\n",
    "\n",
    "    ◾2) addallodd(list) 함수 (리스트내의 모든 홀수를 더하는 함수로서 해답으로는 for ~ in 리터럴과 리스트 내포 방식으로 각각 제시하시오.)\n",
    "    ◦\n",
    "        >>> addallodd([1])\n",
    "        1\n",
    "\n",
    "    ◦\n",
    "        >>> addallodd([1, 2, 3, 4, 5, 6, 7, 8, 9])\n",
    "        25\n",
    "\n",
    "\n",
    "    ◾[참고]: 리스트 내포 방식으로 addall() 및 addallodd()함수를 만들 때엔 리스트 내포에 의해 생성된 리스트 결과에 대해 내장 함수를 사용하는 방식을 고려해보시오 (주의: 리스트 내포 방식의 addall() 및 addallodd() 함수의 몸체는 단 1줄로 작성되어야 한다.) \n"
   ]
  },
  {
   "cell_type": "code",
   "execution_count": 14,
   "metadata": {
    "collapsed": false
   },
   "outputs": [
    {
     "name": "stdout",
     "output_type": "stream",
     "text": [
      "40\n"
     ]
    }
   ],
   "source": [
    "def addall(L):\n",
    "    for i in range(len(L)):\n",
    "        return sum(L)  \n",
    "\n",
    "L = [1,2,3,4,5,10,15]\n",
    "print addall(L)"
   ]
  },
  {
   "cell_type": "code",
   "execution_count": 15,
   "metadata": {
    "collapsed": false
   },
   "outputs": [
    {
     "name": "stdout",
     "output_type": "stream",
     "text": [
      "40\n"
     ]
    }
   ],
   "source": [
    "def addall(L):\n",
    "    return sum([i for i in L])\n",
    "L = [1,2,3,4,5,10,15]\n",
    "print addall(L)"
   ]
  },
  {
   "cell_type": "code",
   "execution_count": 16,
   "metadata": {
    "collapsed": false
   },
   "outputs": [
    {
     "name": "stdout",
     "output_type": "stream",
     "text": [
      "12\n"
     ]
    }
   ],
   "source": [
    "def addallodd(L):\n",
    "    allsum = 0\n",
    "    for i in range(len(L)):\n",
    "        if L[i] % 2:\n",
    "            allsum += L[i]\n",
    "    return allsum\n",
    "\n",
    "L = [3,2,4,8,10,9]\n",
    "print addallodd(L)"
   ]
  },
  {
   "cell_type": "code",
   "execution_count": 17,
   "metadata": {
    "collapsed": false
   },
   "outputs": [
    {
     "name": "stdout",
     "output_type": "stream",
     "text": [
      "12\n"
     ]
    }
   ],
   "source": [
    "def addallodd(L):\n",
    "    return sum([i for i in L if i%2])\n",
    "L = [3,2,4,8,10,9]\n",
    "print addallodd(L)"
   ]
  },
  {
   "cell_type": "markdown",
   "metadata": {},
   "source": [
    "#• 다음 코드를 보고 물음에 답하시오.\n",
    "\n",
    "    L1 = [1, 2, 3]\n",
    "    L2 = [4, 5, 6]\n",
    "    d = {'low':L1, 'high':L2}\n",
    "    e = d\n",
    "    f = d.copy()\n",
    "    print d\n",
    "    print e\n",
    "    print f\n",
    "    print\n",
    "    d['low'] = [10, 20, 30]\n",
    "    d['high'][1] = 500\n",
    "    print d\n",
    "    print e\n",
    "    print f\n",
    "\n",
    "    ◾1) 위 코드의 수행 결과 d와 e는 항상 같은 결과를 출력한다. 그 이유는 무엇인가?\n",
    "\n",
    "    ◾2) 위 코드의 수행 결과 마지막 f의 내용은 다음과 같다. 이 때 'high' 키의 값 내용 중 500이 출력된 이유와 'low' 키의 값 내용 중 [1, 2, 3]이 출력된 이유를 설명하시오 ([hint]: shallow copy 관점에서 설명하시오.){'high': [4, 500, 6], 'low': [1, 2, 3]}"
   ]
  },
  {
   "cell_type": "code",
   "execution_count": 11,
   "metadata": {
    "collapsed": false
   },
   "outputs": [
    {
     "name": "stdout",
     "output_type": "stream",
     "text": [
      "{'high': [4, 5, 6], 'low': [1, 2, 3]}\n",
      "{'high': [4, 5, 6], 'low': [1, 2, 3]}\n",
      "{'high': [4, 5, 6], 'low': [1, 2, 3]}\n",
      "\n",
      "{'high': [4, 500, 6], 'low': [10, 20, 30]}\n",
      "{'high': [4, 500, 6], 'low': [10, 20, 30]}\n",
      "{'high': [4, 500, 6], 'low': [1, 2, 3]}\n"
     ]
    }
   ],
   "source": [
    "L1 = [1, 2, 3]\n",
    "L2 = [4, 5, 6]\n",
    "d = {'low':L1, 'high':L2}\n",
    "e = d\n",
    "f = d.copy()\n",
    "print d\n",
    "print e\n",
    "print f\n",
    "print\n",
    "d['low'] = [10, 20, 30]\n",
    "d['high'][1] = 500\n",
    "print d\n",
    "print e\n",
    "print f"
   ]
  },
  {
   "cell_type": "markdown",
   "metadata": {},
   "source": [
    "d는 원본이고 e의 경우 그저 d의 값들(객체들)을 같이 가르키는 주소를 값으로 가진 얕은 복사이다.\n",
    "\n",
    "f의 경우에는 copy 모듈을 이용해서 새로운 객체가 생성되기 때문에 값은 같아보이지만 사실은 다른 객체를 가르키고 있게된다.\n",
    "\n",
    "그래서 d를 수정하면 e는 같은 것을 가르키고 있기에 같이 값이 변한 것처럼 보이고, f는 상관없이 출력이 된다."
   ]
  },
  {
   "cell_type": "markdown",
   "metadata": {},
   "source": [
    "#• 사전 d = {'one':1, 'two':2, 'three':3, 'four':4, 'five':5}가 주어졌을 때 다음 요구사항에 맞는 코드를 제시하시오 \n",
    "◾[참고]: d.keys(), d.values()를 통해 리스트를 얻어낸 후 리스트가 지니고 있는 sort(cmp=None, key=None, reverse=False)함수를 활용하시오.\n",
    "\n",
    "    ◾1) 키의 알파벳 오름차순 순서대로 튜플 (키, 값)을 차례대로 출력하시오.\n",
    "    ◾2) 키의 알파벳 내림차순 순서대로 튜플 (키, 값)을 차례대로 출력하시오.\n",
    "    ◾3) 값의 오름차순 순서대로 튜플 (키, 값)을 차례대로 출력하시오. \n",
    "    ◾4) 값의 내림차순 순서대로 튜플 (키, 값)을 차례대로 출력하시오.\n"
   ]
  },
  {
   "cell_type": "code",
   "execution_count": 10,
   "metadata": {
    "collapsed": false
   },
   "outputs": [
    {
     "name": "stdout",
     "output_type": "stream",
     "text": [
      "{'four': 4, 'three': 3, 'five': 5, 'two': 2, 'one': 1}\n",
      "\n",
      "[('four', 4), ('three', 3), ('five', 5), ('two', 2), ('one', 1)]\n",
      "\n",
      "1번 [('five', 5), ('four', 4), ('one', 1), ('three', 3), ('two', 2)]\n",
      "\n",
      "2번 [('two', 2), ('three', 3), ('one', 1), ('four', 4), ('five', 5)]\n",
      "\n",
      "3번 [('one', 1), ('two', 2), ('three', 3), ('four', 4), ('five', 5)]\n",
      "\n",
      "4번 [('five', 5), ('four', 4), ('three', 3), ('two', 2), ('one', 1)]\n",
      "\n"
     ]
    }
   ],
   "source": [
    "d = {'one':1, 'two':2, 'three':3, 'four':4, 'five':5}\n",
    "print d\n",
    "print\n",
    "\n",
    "d_keys = d.keys()\n",
    "d_values = d.values()\n",
    "d_result = []\n",
    "\n",
    "def mycmp(a, b):\n",
    "    return cmp(a[1], b[1])\n",
    "\n",
    "for i in range(len(d_keys)):\n",
    "    d_result += [(d_keys[i], d_values[i])]\n",
    "\n",
    "print d_result\n",
    "print\n",
    "\n",
    "d_result.sort()\n",
    "print \"1번\" ,d_result\n",
    "print\n",
    "\n",
    "d_result.sort(reverse = True)\n",
    "print \"2번\" , d_result\n",
    "print\n",
    "\n",
    "d_result.sort(mycmp)\n",
    "print \"3번\" ,d_result\n",
    "print\n",
    "\n",
    "d_result.sort(mycmp, reverse = True)\n",
    "print \"4번\" ,d_result\n",
    "print"
   ]
  },
  {
   "cell_type": "markdown",
   "metadata": {},
   "source": [
    "#• [프로젝트 오일러 문제 7]\n",
    "\n",
    "소수를 크기 순으로 나열하면 2, 3, 5, 7, 11, 13, ... 과 같이 됩니다.\n",
    "\n",
    "이 때 10,001번째의 소수를 구하세요."
   ]
  },
  {
   "cell_type": "code",
   "execution_count": 6,
   "metadata": {
    "collapsed": false
   },
   "outputs": [
    {
     "name": "stdout",
     "output_type": "stream",
     "text": [
      "104743\n"
     ]
    }
   ],
   "source": [
    "num = 2\n",
    "lists = [2]\n",
    "while len(lists) < 10001:\n",
    "    found = True\n",
    "    for a in lists:\n",
    "        if num % a == 0:\n",
    "            found = False\n",
    "            break\n",
    "    if found == True:\n",
    "        lists.append(num)\n",
    "    num += 1\n",
    "print lists[10000]"
   ]
  },
  {
   "cell_type": "markdown",
   "metadata": {},
   "source": [
    "#• [프로젝트 오일러 문제 8]\n",
    "다음은 연속된 1000자리 숫자입니다 (읽기 좋게 50자리씩 잘라놓음).\n",
    "\n",
    "73167176531330624919225119674426574742355349194934\n",
    " 96983520312774506326239578318016984801869478851843\n",
    " 85861560789112949495459501737958331952853208805511\n",
    " 12540698747158523863050715693290963295227443043557\n",
    " 66896648950445244523161731856403098711121722383113\n",
    " 62229893423380308135336276614282806444486645238749\n",
    " 30358907296290491560440772390713810515859307960866\n",
    " 70172427121883998797908792274921901699720888093776\n",
    " 65727333001053367881220235421809751254540594752243\n",
    " 52584907711670556013604839586446706324415722155397\n",
    " 53697817977846174064955149290862569321978468622482\n",
    " 83972241375657056057490261407972968652414535100474\n",
    " 82166370484403199890008895243450658541227588666881\n",
    " 16427171479924442928230863465674813919123162824586\n",
    " 17866458359124566529476545682848912883142607690042\n",
    " 24219022671055626321111109370544217506941658960408\n",
    " 07198403850962455444362981230987879927244284909188\n",
    " 84580156166097919133875499200524063689912560717606\n",
    " 05886116467109405077541002256983155200055935729725\n",
    " 71636269561882670428252483600823257530420752963450 \n",
    "\n",
    "여기서 붉게 표시된 71112의 경우 7, 1, 1, 1, 2 각 숫자를 모두 곱하면 14가 됩니다.\n",
    "이런 식으로 맨 처음 (7 × 3 × 1 × 6 × 7 = 882) 부터 맨 끝 (6 × 3 × 4 × 5 × 0 = 0) 까지 5자리 숫자들의 곱을 구할 수 있습니다.\n",
    "\n",
    "이렇게 구할 수 있는 5자리 숫자의 곱 중에서 가장 큰 값은 얼마입니까?\n"
   ]
  },
  {
   "cell_type": "code",
   "execution_count": 21,
   "metadata": {
    "collapsed": false
   },
   "outputs": [
    {
     "name": "stdout",
     "output_type": "stream",
     "text": [
      "40824\n"
     ]
    }
   ],
   "source": [
    "number = \"\"\"\n",
    "73167176531330624919225119674426574742355349194934\n",
    "96983520312774506326239578318016984801869478851843\n",
    "85861560789112949495459501737958331952853208805511\n",
    "12540698747158523863050715693290963295227443043557\n",
    "66896648950445244523161731856403098711121722383113\n",
    "62229893423380308135336276614282806444486645238749\n",
    "30358907296290491560440772390713810515859307960866\n",
    "70172427121883998797908792274921901699720888093776\n",
    "65727333001053367881220235421809751254540594752243\n",
    "52584907711670556013604839586446706324415722155397\n",
    "53697817977846174064955149290862569321978468622482\n",
    "83972241375657056057490261407972968652414535100474\n",
    "82166370484403199890008895243450658541227588666881\n",
    "16427171479924442928230863465674813919123162824586\n",
    "17866458359124566529476545682848912883142607690042\n",
    "24219022671055626321111109370544217506941658960408\n",
    "07198403850962455444362981230987879927244284909188\n",
    "84580156166097919133875499200524063689912560717606\n",
    "05886116467109405077541002256983155200055935729725\n",
    "71636269561882670428252483600823257530420752963450\n",
    "\"\"\".replace('\\n', '')\n",
    "\n",
    "from functools import reduce\n",
    "index = 0\n",
    "maximum = 0\n",
    "while index < len(number) - 4:\n",
    "    if(number[index + 4] == 0):\n",
    "        index = index + 5\n",
    "        continue\n",
    "    mul = reduce(lambda x,y: int(x)*int(y), number[index:index+5])\n",
    "    maximum = max(maximum, mul)\n",
    "    index = index + 1\n",
    "\n",
    "print(maximum)"
   ]
  },
  {
   "cell_type": "markdown",
   "metadata": {},
   "source": [
    "#• [프로젝트 오일러 문제 9]\n",
    "\n",
    "세 자연수 a, b, c 가 피타고라스 정리 a2 + b2 = c2 를 만족하면 피타고라스 수라고 부릅니다 (여기서 a < b < c ).\n",
    "예를 들면 32 + 42 = 9 + 16 = 25 = 52이므로 3, 4, 5는 피타고라스 수입니다.\n",
    "\n",
    "a + b + c = 1000  인 피타고라스 수 a, b, c는 한 가지 뿐입니다. 이 때, a × b × c 는 얼마입니까?"
   ]
  },
  {
   "cell_type": "code",
   "execution_count": 6,
   "metadata": {
    "collapsed": false
   },
   "outputs": [
    {
     "name": "stdout",
     "output_type": "stream",
     "text": [
      "31875000\n"
     ]
    }
   ],
   "source": [
    "for i in range(1, 1000):\n",
    "    for j in range(i + 1, 1000 - i):\n",
    "        k = 1000 - i - j\n",
    "        if i**2 + j**2 == k**2:\n",
    "            print i * j * k"
   ]
  }
 ],
 "metadata": {
  "kernelspec": {
   "display_name": "Python 2",
   "language": "python",
   "name": "python2"
  },
  "language_info": {
   "codemirror_mode": {
    "name": "ipython",
    "version": 2
   },
   "file_extension": ".py",
   "mimetype": "text/x-python",
   "name": "python",
   "nbconvert_exporter": "python",
   "pygments_lexer": "ipython2",
   "version": "2.7.9"
  }
 },
 "nbformat": 4,
 "nbformat_minor": 0
}

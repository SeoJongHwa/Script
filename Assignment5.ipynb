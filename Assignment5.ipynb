{
 "cells": [
  {
   "cell_type": "markdown",
   "metadata": {},
   "source": [
    "[1번 문제]\n",
    "\n",
    "클래스와 모듈의 공통점과 차이점에 대해 설명하시오."
   ]
  },
  {
   "cell_type": "markdown",
   "metadata": {},
   "source": [
    "공통점 : 어떠한 함수나 변수들을 재사용이 가능하게 한다. 차이점 : 이름공간을 가지는 곳이 다르다. 클래스는 클래스 안에 영역 안에 이름공간을 갖지만 모듈은 파일에 .py로 저장되어 이 곳에 이름공간을 갖는다."
   ]
  },
  {
   "cell_type": "markdown",
   "metadata": {},
   "source": [
    "    "
   ]
  },
  {
   "cell_type": "markdown",
   "metadata": {},
   "source": [
    "[2번 문제]\n",
    "\n",
    "다형성에 대해 설명하고 다형성을 보여주는 자신만의 파이썬 코드 예제를 제시하시오."
   ]
  },
  {
   "cell_type": "code",
   "execution_count": 18,
   "metadata": {
    "collapsed": false
   },
   "outputs": [
    {
     "name": "stdout",
     "output_type": "stream",
     "text": [
      "멍멍\n",
      "꽥꽥\n",
      "냐용!\n",
      "메에\n",
      "...\n"
     ]
    }
   ],
   "source": [
    "class Animal:\n",
    "    def cry(self):\n",
    "        print '...'\n",
    "        \n",
    "class Dog(Animal):\n",
    "    def cry(self):\n",
    "        print '멍멍'\n",
    "        \n",
    "class Duck(Animal):\n",
    "    def cry(self):\n",
    "        print '꽥꽥'\n",
    "\n",
    "class Cat(Animal):\n",
    "    def cry(self):\n",
    "        print '냐용!'\n",
    "        \n",
    "class Cow(Animal):\n",
    "    def cry(self):\n",
    "        print '메에'\n",
    "\n",
    "class Fish(Animal):\n",
    "    pass\n",
    "\n",
    "for each in (Dog(), Duck(), Cat(), Cow(), Fish()):\n",
    "    each.cry()"
   ]
  },
  {
   "cell_type": "markdown",
   "metadata": {},
   "source": [
    "    "
   ]
  },
  {
   "cell_type": "markdown",
   "metadata": {},
   "source": [
    "[3번 문제]\n",
    "\n",
    "다음 각 요구사항 모두를 만족시키는 Counter 클래스를 코딩하시오 (정답을 각 요구사항별로 입력할 필요 없이 3번 문제에 대해 1개의 클래스 정의 코드를 제시하면 된다.)\n",
    "\n",
    "•요구사항 1. 생성자에 count 값과 step 값을 인자로 받을 수 있다.\n",
    "◾count: Counter 인스턴스가 지니는 초기 정수 값\n",
    "◾step: Counter 인스턴스의 count가 증가되는 증분 (defalt 값: 1)\n",
    "\n",
    "\n",
    ">>> c = Counter(10) \n",
    " >>> d = Counter(10, 2) \n",
    "\n",
    "\n",
    "\n",
    "•요구사항 2. 다음과 같이 Counter의 인스턴스를 출력을 해주는 __str__() 메소드를 Counter 클래스 내에 구현하시오.\n",
    "\n",
    "\n",
    ">>> print c \n",
    " [Count (step: 1)] 10 \n",
    " >>> print d \n",
    " [Count (step: 2)] 10 \n",
    "\n",
    "\n",
    "\n",
    "•요구사항 3. 다음과 같이 step에 주어진 증분만큼 count를 증가시키는 incr() 메소드를 Counter 클래스 내에 구현하시오.\n",
    "\n",
    "\n",
    ">>> c.incr() \n",
    " >>> d.incr() \n",
    " >>> print c \n",
    " [Count (step: 1)] 11 \n",
    " >>> print d \n",
    " [Count (step: 2)] 12 \n",
    "\n",
    "\n",
    "\n",
    "•요구사항 4. Counter 클래스 내에 관련 메소드를 추가하여 인스턴스 객체를 직접 호출(call)할 수 있도록 하시오. 인스턴스 객체를 직접 호출했을 때에 내부적으로 incr() 메소드를 호출하는 방법으로 구현하시오.\n",
    "\n",
    "\n",
    ">>> c() \n",
    " >>> d() \n",
    " >>> print c \n",
    " [Count (step: 1)] 12 \n",
    " >>> print d \n",
    " [Count (step: 2)] 14 \n",
    "\n",
    "\n",
    "\n",
    "•요구사항 5. 다음과 같은 두 개의 산술 연산 (+, -)이 수행될 수 있도록 Counter 클래스 내에 관련 메소드를 추가하시오.\n",
    "\n",
    "\n",
    ">>> c = c + 5 \n",
    " >>> d = d - 5 \n",
    " >>> print c \n",
    " [Count (step: 1)] 17 \n",
    " >>> print d \n",
    " [Count (step: 2)] 9 \n",
    "\n",
    "\n",
    "\n",
    "•요구사항 6. 다음과 같은 관계연산 (>, <, ==)이 수행될 수 있도록 Counter 클래스 내에 관련 메소드를 추가하시오.\n",
    "\n",
    "\n",
    ">>> print c > 10 \n",
    " True \n",
    " >>> print d > 10 \n",
    " False \n",
    " >>> print c < 10 \n",
    " False \n",
    " >>> print d < 10 \n",
    " True \n",
    " >>> print c == 17 \n",
    " True \n",
    " >>> print d != 9 \n",
    " False \n",
    "\n"
   ]
  },
  {
   "cell_type": "code",
   "execution_count": 20,
   "metadata": {
    "collapsed": false
   },
   "outputs": [],
   "source": [
    "class Counter:\n",
    "    #요구사항 1번\n",
    "    def __init__(self, count, step=1):\n",
    "        self.count = count\n",
    "        self.step = step\n",
    "        \n",
    "    #요구사항 2번\n",
    "    def __str__(self):\n",
    "        return '[Count(step: %d)] %d' %(self.step, self.count)\n",
    "\n",
    "    #요구사항 3번\n",
    "    def incr(self):\n",
    "        self.count+=self.step\n",
    "\n",
    "    #요구사항 4번    \n",
    "    def __call__(self):\n",
    "        self.count+=self.step\n",
    "\n",
    "    #요구사항 5번    \n",
    "    def __add__(self, value):\n",
    "        try:\n",
    "            return Counter(self.count + int(value))\n",
    "        except:\n",
    "            return self\n",
    "    \n",
    "    #요구사항 5번\n",
    "    def __sub__(self, value):\n",
    "        try:\n",
    "            return Counter(self.count - int(value))\n",
    "        except:\n",
    "            return self\n",
    "    \n",
    "    #요구사항 6번\n",
    "    def __cmp__(self, other):\n",
    "        return self.count - int(other)\n"
   ]
  },
  {
   "cell_type": "code",
   "execution_count": 21,
   "metadata": {
    "collapsed": false
   },
   "outputs": [
    {
     "name": "stdout",
     "output_type": "stream",
     "text": [
      "[Count(step: 1)] 10\n",
      "[Count(step: 2)] 10\n",
      "[Count(step: 1)] 11\n",
      "[Count(step: 2)] 12\n",
      "[Count(step: 1)] 12\n",
      "[Count(step: 2)] 14\n",
      "[Count(step: 1)] 17\n",
      "[Count(step: 1)] 9\n",
      "True\n",
      "False\n",
      "False\n",
      "True\n",
      "True\n",
      "False\n"
     ]
    }
   ],
   "source": [
    "c = Counter(10)\n",
    "d = Counter(10, 2)\n",
    "print c\n",
    "print d\n",
    "c.incr()\n",
    "d.incr()\n",
    "print c\n",
    "print d\n",
    "c()\n",
    "d()\n",
    "print c\n",
    "print d\n",
    "c = c + 5\n",
    "d = d - 5\n",
    "print c\n",
    "print d\n",
    "print c > 10\n",
    "print d > 10\n",
    "print c < 10\n",
    "print d < 10\n",
    "print c == 17\n",
    "print d != 9\n"
   ]
  },
  {
   "cell_type": "markdown",
   "metadata": {},
   "source": [
    "    "
   ]
  },
  {
   "cell_type": "markdown",
   "metadata": {},
   "source": [
    "[4번 문제]\n",
    "\n",
    "다음은 내장 자료형 list를 서브클래싱하여 만든 MySet 클래스 정의 내용이다. 다음 클래스 정의에서 __init__(), __str()__(), elimicate_duplicate()의 세 개의 메소드 코드 내용을 자신이 다른 사람에게 가르친다고 생각하며 설명해보시오.\n",
    "• MySet은 집합(Set) 자료형을 정의하려는 의도하에 만들어진 클래스이다.\n",
    "\n"
   ]
  },
  {
   "cell_type": "code",
   "execution_count": 1,
   "metadata": {
    "collapsed": false
   },
   "outputs": [
    {
     "name": "stdout",
     "output_type": "stream",
     "text": [
      "MySet: {1 ,2 ,3}\n",
      "MySet: {2 ,3 ,4 ,5 ,6 ,7 ,8 ,9}\n"
     ]
    }
   ],
   "source": [
    "class MySet(list):\n",
    "    def __init__(self, l):\n",
    "        for e in l:\n",
    "            self.append(e)\n",
    "        MySet.eliminate_duplicate(self)\n",
    "    \n",
    "    def __str__(self):\n",
    "        result = \"MySet: {\"\n",
    "        for e in self:\n",
    "            result = result + str(e) + \" ,\"\n",
    "        result = result[0:len(result)-2] + \"}\"\n",
    "        return result\n",
    "\n",
    "    @staticmethod    \n",
    "    def eliminate_duplicate(l):\n",
    "        s = []\n",
    "        for e in l:\n",
    "            if e not in s:\n",
    "                s.append(e)\n",
    "        l[:] = []\n",
    "        for e in s:\n",
    "            l.append(e)\n",
    "\n",
    "    \n",
    "if __name__ == \"__main__\":\n",
    "    s = MySet([1, 2, 2, 3])\n",
    "    print s\n",
    "    t = MySet([2, 3, 4, 5, 6, 7, 8, 8, 8, 8, 8, 9])\n",
    "    print t"
   ]
  },
  {
   "cell_type": "markdown",
   "metadata": {},
   "source": [
    "init - init은 생성자 함수이다. 기능은 입력받은 l(리스트)를 for문을 사용해서 self에 append시켜주고있다. 그리고 이 self를 eliminate_duplicate를 사용해서 중복된 값을 제거해준다.\n",
    "\n",
    "eliminate_duplicate - eliminate_duplicate는 init에서 불러 줄 함수인데 중복된 값을 지워주는 기능이다. 입력받은 l을 s에 append를 시키는데 만약 이미 append된 값과 같은 값이 append되려하면 append시키지 않는다. 그러고 난뒤에 입력받은 l을 빈 리스트로 만들고 거기에 다시 s에 저장된 즉 l에서 중복값이 제거된 값들이 저장된다.\n",
    "\n",
    "str - 지금까지의 기능들이 출력되는 곳이다. MySet : {형식으로 출력되기 위해서 result에 미리 저장해놓고 여기에 self즉 init에서 생성된 eliminate_duplicate을 거친 중복값이 제거된 리스트에서 값을 하나씩 빼서 문자화 시켜서 result에 붙여준다 그리고 마지막 2개를 지우는 이유는 마지막에 ,가 붙기 때문에 2개를 지워준다.\n"
   ]
  },
  {
   "cell_type": "markdown",
   "metadata": {},
   "source": [
    "    "
   ]
  },
  {
   "cell_type": "markdown",
   "metadata": {},
   "source": [
    "[5번 문제]\n",
    "\n",
    "4번 문제에 정의된 MySet 클래스에 메소드를 추가하여 다음 각 요구사항 모두를 만족시키는 코딩을 제시하시오\n",
    "•정답을 각 요구사항별로 입력할 필요 없이 요구사항 3개 전체에 대해 1개의 MySet 클래스 정의 코드를 제시하고 주석등으로 해당 코드를 설명한다.\n",
    "\n",
    "•요구사항 1. | 연산으로 두 집합의 합집합을 반환한다.\n",
    "\n",
    "\n",
    ">>> u = s | t \n",
    " >>> print u \n",
    " MySet: {1, 2, 3, 4, 5, 6, 7, 8, 9} \n",
    "\n",
    "\n",
    "\n",
    "•요구사항 2. & 연산으로 두 집합의 교집합을 반환한다.\n",
    "\n",
    "\n",
    ">>> u = s & t \n",
    " >>> print u \n",
    " MySet: {2, 3} \n",
    "\n",
    "\n",
    "\n",
    "•요구사항 3. - 연산으로 두 집합의 차집합을 반환한다.\n",
    "\n",
    "\n",
    ">>> s = MySet([1, 2, 3]) \n",
    " >>> t = MySet([3, 4, 5]) \n",
    " >>> u = s - t \n",
    " >>> print u \n",
    " MySet: {1} "
   ]
  },
  {
   "cell_type": "code",
   "execution_count": 2,
   "metadata": {
    "collapsed": false
   },
   "outputs": [
    {
     "name": "stdout",
     "output_type": "stream",
     "text": [
      "MySet: {1 ,2 ,3}\n",
      "MySet: {2 ,3 ,4 ,5 ,6 ,7 ,8 ,9}\n",
      "MySet: {1 ,2 ,3 ,4 ,5 ,6 ,7 ,8 ,9}\n",
      "MySet: {3}\n",
      "MySet: {1 ,2}\n"
     ]
    }
   ],
   "source": [
    "class MySet(list):\n",
    "    def __init__(self, l):\n",
    "        for e in l:\n",
    "            self.append(e)\n",
    "        MySet.eliminate_duplicate(self)\n",
    "    \n",
    "    def __str__(self):\n",
    "        result = \"MySet: {\"\n",
    "        for e in self:\n",
    "            result = result + str(e) + \" ,\"\n",
    "        result = result[0:len(result)-2] + \"}\"\n",
    "        return result\n",
    "\n",
    "    @staticmethod   \n",
    "    def eliminate_duplicate(l):\n",
    "        s = []\n",
    "        for e in l:\n",
    "            if e not in s:\n",
    "                s.append(e)\n",
    "        l[:] = []\n",
    "        for e in s:\n",
    "            l.append(e)\n",
    "    \n",
    "    #요구사항 1번         \n",
    "    def __or__(self, l):\n",
    "        l1 = []\n",
    "        l1.extend(self)\n",
    "        l1.extend(l)\n",
    "        self.eliminate_duplicate(l1)\n",
    "        l1.sort()\n",
    "        return MySet(l1)\n",
    "    \n",
    "    #요구사항 2번 \n",
    "    def __and__(self, l):\n",
    "        l2 = []\n",
    "        for a in self:\n",
    "            if a in l:\n",
    "                l2.append(a)\n",
    "        return MySet(l2)\n",
    "    \n",
    "    #요구사항 3번 \n",
    "    def __sub__(self, l):\n",
    "        l3 = []\n",
    "        for a in self:\n",
    "            if a in l:\n",
    "                l3.append(a)\n",
    "                \n",
    "                \n",
    "        for a in l3:\n",
    "            if a in self:\n",
    "                self.remove(a)\n",
    "        return MySet(self)\n",
    "                \n",
    "if __name__ == \"__main__\":\n",
    "    s = MySet([1, 2, 2, 3])\n",
    "    print s\n",
    "    t = MySet([2, 3, 4, 5, 6, 7, 8, 8, 8, 8, 8, 9])\n",
    "    print t\n",
    "    \n",
    "    s = s|t\n",
    "    print s\n",
    "    \n",
    "    s = MySet([1,2,3])\n",
    "    t = MySet([3,4,5])\n",
    "    s = s&t\n",
    "    print s\n",
    "    \n",
    "    s = MySet([1,2,3])\n",
    "    t = MySet([3,4,5])\n",
    "    s = s-t\n",
    "    print s\n"
   ]
  },
  {
   "cell_type": "markdown",
   "metadata": {},
   "source": [
    "    "
   ]
  },
  {
   "cell_type": "markdown",
   "metadata": {},
   "source": [
    "[6번 문제]\n",
    "\n",
    "5번 문제에서 정의한 MySet 클래스에 대해 다음 예제를 수행하면 오류없이 올바르게 동작하는 것을 확인할 수 있다. 다음 예제 내에 있는 len(), bool() 내장함수와 in 키워드 사용 예제가 별다른 메소드 정의를 하지 않았는 데도 올바르게 수행되는 이유를 설명하시오.\n",
    "> \\>\\>\\> s = MySet([1, 2, 3, 4, 5, 6])  <br/>\n",
    "> \\>\\>\\> print len(s)  <br/>\n",
    "> 6 <br/>\n",
    "> \\>\\>\\> print bool(s)  <br/>\n",
    "> True <br/>\n",
    "> \\>\\>\\> print 2 in s  <br/>\n",
    "> True <br/>\n"
   ]
  },
  {
   "cell_type": "markdown",
   "metadata": {},
   "source": [
    "MySet클래스가 정의될 때 list클래스를 상속받았기 때문이다. 그렇기 때문에 부모 클래스인 list의 내장함수와 키워드가 자유롭게 사용 가능하다.\n"
   ]
  },
  {
   "cell_type": "markdown",
   "metadata": {},
   "source": [
    "    "
   ]
  },
  {
   "cell_type": "markdown",
   "metadata": {},
   "source": [
    "[7번 문제]\n",
    "\n",
    "프로젝트 오일러 문제 16"
   ]
  },
  {
   "cell_type": "code",
   "execution_count": 2,
   "metadata": {
    "collapsed": false
   },
   "outputs": [
    {
     "name": "stdout",
     "output_type": "stream",
     "text": [
      "1366\n"
     ]
    }
   ],
   "source": [
    "print sum(int(c) for c in str(2**1000))"
   ]
  },
  {
   "cell_type": "markdown",
   "metadata": {},
   "source": [
    "    "
   ]
  },
  {
   "cell_type": "markdown",
   "metadata": {},
   "source": [
    "[8번 문제]\n",
    "\n",
    "프로젝트 오일러 문제 17"
   ]
  },
  {
   "cell_type": "code",
   "execution_count": 3,
   "metadata": {
    "collapsed": false
   },
   "outputs": [
    {
     "name": "stdout",
     "output_type": "stream",
     "text": [
      "21124\n"
     ]
    }
   ],
   "source": [
    "pronounce = [[\"one\", \"two\", \"three\", \"four\", \"five\", \"six\", \"seven\", \"eight\", \"nine\", \"ten\"],\n",
    "[\"eleven\", \"twelve\", \"thirteen\", \"fourteen\", \"fifteen\", \"sixteen\", \"seventeen\", \"eighteen\", \"nineteen\", \"twenty\"],\n",
    "[\"\", \"twenty\", \"thirty\", \"forty\", \"fifty\", \"sixty\", \"seventy\", \"eighty\", \"ninety\", \"hundred\"]]\n",
    "\n",
    "sum = 0\n",
    "for n in range(1,1001):\n",
    "    under = n % 100\n",
    "    over  = n // 100\n",
    "\n",
    "    strings = []\n",
    "    if over:\n",
    "        if over <= 10:\n",
    "            strings.append(pronounce[0][over-1])\n",
    "        elif over <= 20:\n",
    "            strings.append(pronounce[1][over-11])\n",
    "        else:\n",
    "            strings.append(pronounce[2][over//10-1])\n",
    "            if over%10 > 0:\n",
    "                strings.append(pronounce[0][over%10-1])\n",
    "        strings.append(\"hundred\")\n",
    "        strings.append(\"and\")\n",
    "    if under:\n",
    "        if 0 < under <= 10:\n",
    "            strings.append(pronounce[0][under-1])\n",
    "        elif under <= 20:\n",
    "            strings.append(pronounce[1][under-11])\n",
    "        else:\n",
    "            strings.append(pronounce[2][under//10-1])\n",
    "            if under%10 > 0:\n",
    "                strings.append(pronounce[0][under%10-1])\n",
    "    elif strings[-1] is \"and\":\n",
    "        strings.pop()\n",
    "\n",
    "    sum += len(\"\".join(strings))\n",
    "print(sum+1)"
   ]
  },
  {
   "cell_type": "markdown",
   "metadata": {},
   "source": [
    "    "
   ]
  },
  {
   "cell_type": "markdown",
   "metadata": {},
   "source": [
    "[9번 문제]\n",
    "\n",
    "프로젝트 오일러 문제 18"
   ]
  },
  {
   "cell_type": "code",
   "execution_count": 9,
   "metadata": {
    "collapsed": false
   },
   "outputs": [
    {
     "name": "stdout",
     "output_type": "stream",
     "text": [
      "1074\n"
     ]
    }
   ],
   "source": [
    "s = '''\n",
    "75\n",
    "95 64\n",
    "17 47 82\n",
    "18 35 87 10\n",
    "20 04 82 47 65\n",
    "19 01 23 75 03 34\n",
    "88 02 77 73 07 63 67\n",
    "99 65 04 28 06 16 70 92\n",
    "41 41 26 56 83 40 80 70 33\n",
    "41 48 72 33 47 32 37 16 94 29\n",
    "53 71 44 65 25 43 91 52 97 51 14\n",
    "70 11 33 28 77 73 17 78 39 68 17 57\n",
    "91 71 52 38 17 14 91 43 58 50 27 29 48\n",
    "63 66 04 68 89 53 67 30 73 16 69 87 40 31\n",
    "04 62 98 27 23 09 70 98 73 93 38 53 60 04 23\n",
    "'''\n",
    "\n",
    "vals = []\n",
    "for line in s.strip('\\n').split('\\n'):\n",
    "    vals.append([int(num) for num in line.split()])\n",
    "\n",
    "for row in range(13, -1, -1):\n",
    "    for col in range(row+1):\n",
    "        vals[row][col] += max(vals[row+1][col], vals[row+1][col+1])\n",
    "print vals[0][0]"
   ]
  },
  {
   "cell_type": "markdown",
   "metadata": {},
   "source": [
    "    "
   ]
  },
  {
   "cell_type": "markdown",
   "metadata": {},
   "source": [
    "[10번 문제]\n",
    "\n",
    "프로젝트 오일러 문제 19"
   ]
  },
  {
   "cell_type": "code",
   "execution_count": 10,
   "metadata": {
    "collapsed": false
   },
   "outputs": [
    {
     "name": "stdout",
     "output_type": "stream",
     "text": [
      "171\n"
     ]
    }
   ],
   "source": [
    "import datetime, time\n",
    "\n",
    "year = 1901\n",
    "cnt = 0\n",
    "\n",
    "for year in range(1901,2001):\n",
    "    month = 1\n",
    "    \n",
    "    for month in range(1,13):\n",
    "        d = datetime.date(year,month,1)\n",
    "        if d.weekday() == 6:\n",
    "            cnt+=1\n",
    "\n",
    "print cnt"
   ]
  },
  {
   "cell_type": "markdown",
   "metadata": {},
   "source": [
    "    "
   ]
  },
  {
   "cell_type": "markdown",
   "metadata": {},
   "source": [
    "[11번 문제]\n",
    "\n",
    "프로젝트 오일러 문제 20"
   ]
  },
  {
   "cell_type": "code",
   "execution_count": 11,
   "metadata": {
    "collapsed": false
   },
   "outputs": [
    {
     "name": "stdout",
     "output_type": "stream",
     "text": [
      "648\n"
     ]
    }
   ],
   "source": [
    "j = 1\n",
    "\n",
    "for i in range(1,101):\n",
    "    j = j * i\n",
    "\n",
    "l = 0\n",
    "\n",
    "for k in list(str(j)):\n",
    "    l = l + int(k)\n",
    "\n",
    "print(l)"
   ]
  },
  {
   "cell_type": "markdown",
   "metadata": {},
   "source": [
    "    "
   ]
  },
  {
   "cell_type": "markdown",
   "metadata": {},
   "source": [
    "[12번 문제]\n",
    "\n",
    "프로젝트 오일러 문제 21"
   ]
  },
  {
   "cell_type": "code",
   "execution_count": 16,
   "metadata": {
    "collapsed": false
   },
   "outputs": [
    {
     "name": "stdout",
     "output_type": "stream",
     "text": [
      "31626\n"
     ]
    }
   ],
   "source": [
    "i = 2\n",
    "list = []\n",
    "num_dic = {}\n",
    "while i < 10000:\n",
    "    sum = 0\n",
    "    for x in range(1,i):\n",
    "        if i % x == 0:\n",
    "            sum = x + sum\n",
    "    \n",
    "    num_dic[i] = {\n",
    "        \"sum\" : sum,}\n",
    "        \n",
    "    i = i +1     \n",
    "\n",
    "li = []\n",
    "for x, x_info in num_dic.iteritems():\n",
    "    if x_info[\"sum\"] in num_dic:\n",
    "        if num_dic[x_info[\"sum\"]][\"sum\"] == x:\n",
    "            li.append(x)\n",
    "            \n",
    "li_2 = []\n",
    "\n",
    "for a in li:\n",
    "    kk = 0\n",
    "    for x in range(1,a):\n",
    "        if a % x == 0:\n",
    "            kk = x + kk\n",
    "            \n",
    "    if a != kk:\n",
    "        li_2.append(a)\n",
    "        \n",
    "n = 0\n",
    "\n",
    "for y in li_2:\n",
    "    n = n + y\n",
    "    \n",
    "print n"
   ]
  },
  {
   "cell_type": "markdown",
   "metadata": {},
   "source": [
    "    "
   ]
  },
  {
   "cell_type": "markdown",
   "metadata": {
    "collapsed": true
   },
   "source": [
    "[13번 문제]\n",
    "\n",
    "이전 Assignment 3 (Assignment 4가 아님)의 마지막 문제는 웹 URL로 지정된 웹페이지를 문자열로 가져와 모든 HTML 태그 및 CSS와 Javascript를 제외한 순수 텍스트를 얻어내고 그 안에 존재하는 단어를 추출하여 각 단어들에 대해 출현빈도를 사전형태({'world': 2, 'hello': 1, 'python': 1})로 저장하여 출력하는 것이었다. 이번에는 Assignment 3을 다시 확장/변형하여 다음과 같은 조건을 만족하도록 구현하시오.\n",
    "•1) 새로운 클래스 WebWordsFrequency를 정의하시오.◾이전 Assignment 4에서 고려했던 pickle 모듈등은 전혀 고려하지 마시오.\n",
    "◾즉, 하드시스크에 저장하고 다시 로드하는 기능은 본 숙제에는 배제하시오.\n",
    "◾Assignment 4에서 고려했던 영어 불용어 처리는 적용하시오.◦영어 불용어: [ 'a', 'and', 'are', 'as', 'at', 'be', 'but', 'by', 'for', 'if', 'in', 'into', 'is', 'it', 'no', 'not', 'of', 'on', 'or', 's', 'such', 't', 'that', 'the', 'their', 'then', 'there', 'these', 'they', 'this', 'to', 'was', 'will', 'with']\n",
    "\n",
    "◾Assignment 4에서 처럼 국문 사이트가 아닌 영어 사이트만을 고려하여 아래 사항을 코딩하시오.\n",
    "\n",
    "•2) 생성자에 URL을 0개에서 임의의 개수를 넣을 수 있도록 생성자 인수를 가변인수로 정의하여 각각의 URL을 리스트 자료형에 유지하시오.\n",
    "\n",
    ">>> w1 = WebWordsFrequency('http://www.cnn.com', 'http://www.times.com', 'https://www.amazon.com') \n",
    " >>> w2 = WebWordsFrequency('http://www.cnn.com', 'http://www.times.com') \n",
    " >>> w3 = WebWordsFrequency() \n",
    "\n",
    "\n",
    "\n",
    "•3) addUrl() 메소드를 구현하여 인스턴스를 생성한 이후에도 URL을 추가할 수 있도록 한다.\n",
    "◾반드시 1개의 URL을 추가하도록 구현 (즉, 동시에 여러 개의 URL을 추가하는 것은 배제)\n",
    "\n",
    "\n",
    ">>> w1.addUrl('https://github.com')\n",
    " >>> w3.addUrl('http://stackoverflow.com')\n",
    "\n",
    "\n",
    "\n",
    "•4) removeUrl() 메소드를 구현하여 URL을 삭제할 수 있도록 한다.\n",
    "◾반드시 1개의 URL을 삭제하도록 구현 (즉, 동시에 여러 개의 URL을 삭제하는 것은 배제) \n",
    "\n",
    "\n",
    ">>> w1.removeUrl('http://www.cnn.com')\n",
    " >>> w2.removeUrl('http://stackoverflow.com')\n",
    "\n",
    "\n",
    "•5) listUrls() 메소드를 구현하여 현재 등록된 모든 URL을 출력하는 기능을 추가\n",
    "\n",
    ">>> w1.listUrls()\n",
    "http://www.times.com \n",
    "https://www.amazon.com \n",
    "https://github.com \n",
    "\n",
    "\n",
    "\n",
    "•6) getWordsFrequency() 메소드를 구현하여 각 URL의 웹페이지들을 종합적으로 분석한 단어 출현 빈도 사전을 반환하시오.\n",
    "◾만약 등록된 URL이 없다면 공백 사전을 반환 \n",
    "\n",
    "\n",
    ">>> w1.getWordsFrequency() \n",
    " {'hello': 8, 'site': 12, 'world': 2, 'science': 11, 'program': 1, 'python': 1}\n",
    "\n",
    "\n",
    "•7) getMaxFreqencyWords() 메소드를 구현하여 각 URL의 웹페이지들을 종합적으로 분석한 단어 출현 빈도 사전에서 가장 많이 출현한 단어 리스트를 반환하시오.\n",
    "\n",
    "\n",
    ">>> w1.getMaxFreqencyWords() \n",
    " site \n",
    "\n",
    "◾최다 출현 단어의 빈도수가 동일한 경우 모두 출력해주어야 함 \n",
    "\n",
    "\n",
    ">>> w2.getMaxFreqencyWords() \n",
    " site \n",
    " science\n",
    "◾만약 등록된 URL이 없다면 None을 반환\n",
    "\n"
   ]
  },
  {
   "cell_type": "code",
   "execution_count": 31,
   "metadata": {
    "collapsed": false
   },
   "outputs": [
    {
     "name": "stdout",
     "output_type": "stream",
     "text": [
      "구두점을 제거한 결과\n",
      "Total num of plain words: 460\n",
      "컴퓨터공학부 Schoolfun  Study and Fun > 로그인 로그인 아이디 비밀번호 로그인 유지 브라우저를 닫더라도 로그인이 계속 유지될 수 있습니다 로그인 유지 기능을 사용할 경우 다음 접속부터는 로그인할 필요가 없습니다 단 게임방 학교 등 공공장소에서 이용 시 개인정보가 유출될 수 있으니 꼭 로그아웃을 해주세요 회원가입 ID/PW 찾기 IT 교육의 글로벌 메카 한국기술교육대학교 컴퓨터공학부 Close 소개 구성원소개 학사안내 입학 학부 대학원 학부광장 자료실 대학원 공학교육인증 학부서비스 Registration 컴퓨터공학부 School of Computer Science and Engineering IT 융합소프트웨어 인력양성사업 CK Creative KoreaI 교육역량강화사업 온라인 컨텐츠 Online Contents for Education Capability Empowerment IT 교육의 글로벌 메카 한국기술교육대학교 컴퓨터공학부 홈페이지에 오신 것을 환영합니다 IT 융합소프트웨어 인력양성사업 글로벌 수준의 IT전문인력 양성 IT융합분야에 대한 국제적인 경쟁력 고취 바로가기 교육역량강화사업 컨텐츠 교육역량강화사업 온라인 컨텐츠를 소개합니다 바로가기 공지사항 [특성화 6차 실무프로그래밍 강좌 신청 안내 20151203 1717 1717 [특성화 2015 IT융합 마이크로프로세서 경진대회 공고 20151202 1529 1529 [특성화 제5차 실무프로그래밍 강좌 신청 안내 20151202 1006 1006 [특성화 2차년도 IT융합 소프트웨어 캠프 모집 공고 20151201 1731 1731 [특성화 IT융합 2학기 Term Project 경진대회 모집 공고 20151201 1722 1722 자유게시판 컴퓨터공학부 제 7대 학생회 PARADIGM 패러다임 간식 20151204 2135 2135 2015 고려대학교 정보보안기술 세미나 개최 20151202 2325 2325 컴퓨터공학부 제 7대학생회 'Paradigm' 집행부 모집 20151130 0105 0105 [취업설명회 2016 삼성전자 소프트웨어 멤버십 홍보  20151125 1011 1011 16년상 삼성전자 SW멤버십 신입회원 선발 20151123 1930 1930 취업게시판 주에스티이지에서 신입 인재를 찾고 있습니다 20151204 1640 1640 STC Corp에서 기술지원 업무를 할 인재를 찾고 있습니다 20151128 1751 1751 파이언넷주에서 개발자를 찾고 있습니다 20151128 1743 1743 소셜미디어전략연구소에서 웹개발자를 찾고 있습니다 20151030 1515 1515 NSHC 20151030 1504 1504 VENTURESQUARE weekly newsletter 20150909 2 20151208 1221 1221 트래볼루션 외국인 관광객 전용 티켓 매니지먼트 시스 20151208 1221 1221 스칸디에듀 쿨리지코너 인베스트먼트로부터 5억 원 투 20151208 1118 1118 구글 2015년 가장 많이 관심받은 검색어 순위 공개 20151208 1111 1111 KICT 스마트미디어센터 신규 입주 벤처기업 모집 20151208 1055 1055 전자신문 [이슈분석`20%의 힘`휴대폰 자급제 시장 열린다 20151207 1800 1800 [이슈분석한국 휴대폰 자급제율 세계 최하 수준 20151207 1800 1800 [이슈분석첫 시도 이후 7년아직은 먼 휴대폰 자급제 20151207 1800 1800 국가 재난망 콘퍼런스 세이프넷 코리아 20151207 1636 1636 IoT·5G 등 ICT 신산업 육성으로 생산유발 140조원·고용 20151207 1551 1551 RE/CODE Economists Suggest Silicon Valley Startups Are 20151208 1002 1002 Max Factor Comic 20151208 0855 0855 The Case for padOS 20151208 0820 0820 Google Life Sciences Alphabet’s Health Care M 20151208 0753 0753 Along With Spinoff Decision Yahoo May Unveil  20151208 0742 0742 Back to Top Leading Together for Brighter Future > Quick Navigation 한국기술교육대학교 홈페이지 한국기술교육대학교 WEBMAIL 한국기술교육대학교 온라인 평생교육원 교육역량강화사업 온라인 컨텐츠 컴퓨터공학부 포트폴리오 > IT 융합소프트웨어 인력양성사업 Campus Location Contact CSE 충청남도 천안시 동남구 병천면 충절로 1600 한국기술교육대학교 컴퓨터공학부 학과사무실 TEL 041 560 1460~1461 FAX 041 560 1462 Facebook Twitter Google Plus Linkedin Youtube Flickr > 31253 충청남도 천안시 동남구 병천면 충절로 1600 가전리 한국기술교육대학교 컴퓨터공학부 Copyright © 2015 All rights reserved\n",
      "\n",
      "각 단어들의 출현빈도\n",
      "\n",
      "['\\xea\\xb2\\x83\\xec\\x9d\\x84', '\\xed\\x99\\x88\\xed\\x8e\\x98\\xec\\x9d\\xb4\\xec\\xa7\\x80\\xec\\x97\\x90', '\\xec\\x86\\x8c\\xea\\xb0\\x9c\\xed\\x95\\xa9\\xeb\\x8b\\x88\\xeb\\x8b\\xa4', '\\xea\\xb8\\x80\\xeb\\xa1\\x9c\\xeb\\xb2\\x8c', '1462', '\\xec\\x9e\\x90\\xea\\xb8\\x89\\xec\\xa0\\x9c', '\\xec\\x98\\xa8\\xeb\\x9d\\xbc\\xec\\x9d\\xb8', '\\xea\\xb3\\x84\\xec\\x86\\x8d', '20151030', '1460~1461', '\\xec\\x82\\xac\\xec\\x9a\\xa9\\xed\\x95\\xa0', '1722', '\\xec\\x9c\\xa0\\xec\\xa7\\x80', '\\xea\\xb5\\x90\\xec\\x9c\\xa1\\xec\\x97\\xad\\xeb\\x9f\\x89\\xea\\xb0\\x95\\xed\\x99\\x94\\xec\\x82\\xac\\xec\\x97\\x85', '\\xec\\x9e\\x88\\xec\\x9c\\xbc\\xeb\\x8b\\x88', '\\xea\\xb3\\xb5\\xec\\xa7\\x80\\xec\\x82\\xac\\xed\\x95\\xad', '\\xea\\xb5\\xac\\xea\\xb8\\x80', '5\\xec\\x96\\xb5', 'IoT\\xc2\\xb75G', '\\xec\\x86\\x8c\\xea\\xb0\\x9c', 'weekly', 'Plus', '1111', '\\xec\\xb0\\xbe\\xea\\xb8\\xb0', '20151130', '\\xeb\\xa7\\xa4\\xeb\\x8b\\x88\\xec\\xa7\\x80\\xeb\\xa8\\xbc\\xed\\x8a\\xb8', '\\xea\\xb2\\x8c\\xec\\x9e\\x84\\xeb\\xb0\\xa9', '2325', 'Campus', 'padOS', '31253', '\\xec\\x8a\\xa4\\xeb\\xa7\\x88\\xed\\x8a\\xb8\\xeb\\xaf\\xb8\\xeb\\x94\\x94\\xec\\x96\\xb4\\xec\\x84\\xbc\\xed\\x84\\xb0', 'Twitter', '\\xed\\x95\\x99\\xec\\x82\\xac\\xec\\x95\\x88\\xeb\\x82\\xb4', '\\xec\\xb7\\xa8\\xec\\x97\\x85\\xea\\xb2\\x8c\\xec\\x8b\\x9c\\xed\\x8c\\x90', 'to', 'Alphabet\\xe2\\x80\\x99s', 'Leading', '2015', '\\xeb\\xb0\\x94\\xeb\\xa1\\x9c\\xea\\xb0\\x80\\xea\\xb8\\xb0', '2016', 'Top', '\\xec\\x8b\\xa0\\xec\\x9e\\x85', '\\xeb\\x8b\\xa8', '\\xeb\\x8f\\x99\\xeb\\x82\\xa8\\xea\\xb5\\xac', '\\xed\\x95\\x99\\xeb\\xb6\\x80\\xea\\xb4\\x91\\xec\\x9e\\xa5', '\\xed\\x8f\\x89\\xec\\x83\\x9d\\xea\\xb5\\x90\\xec\\x9c\\xa1\\xec\\x9b\\x90', '\\xea\\xb3\\xb5\\xea\\xb0\\x9c', 'KICT', '1221', '\\xec\\x9c\\xa1\\xec\\x84\\xb1\\xec\\x9c\\xbc\\xeb\\xa1\\x9c', '\\xec\\x9e\\x90\\xea\\xb8\\x89\\xec\\xa0\\x9c\\xec\\x9c\\xa8', 'CSE', '\\xeb\\xa7\\x8e\\xec\\x9d\\xb4', 'Project', 'Copyright', '[\\xed\\x8a\\xb9\\xec\\x84\\xb1\\xed\\x99\\x94', '\\xec\\xb6\\xa9\\xec\\xa0\\x88\\xeb\\xa1\\x9c', '\\xec\\x83\\x9d\\xec\\x82\\xb0\\xec\\x9c\\xa0\\xeb\\xb0\\x9c', 'Quick', '\\xeb\\xb8\\x8c\\xeb\\x9d\\xbc\\xec\\x9a\\xb0\\xec\\xa0\\x80\\xeb\\xa5\\xbc', '\\xea\\xb0\\x80\\xec\\x9e\\xa5', '\\xec\\xbb\\xa8\\xed\\x85\\x90\\xec\\xb8\\xa0\\xeb\\xa5\\xbc', '\\xec\\x99\\xb8\\xea\\xb5\\xad\\xec\\x9d\\xb8', '1551', '\\xec\\x8b\\xa0\\xec\\x9e\\x85\\xed\\x9a\\x8c\\xec\\x9b\\x90', 'PARADIGM', 'Corp\\xec\\x97\\x90\\xec\\x84\\x9c', 'Economists', 'Sciences', '\\xed\\x95\\x99\\xeb\\xb6\\x80\\xec\\x84\\x9c\\xeb\\xb9\\x84\\xec\\x8a\\xa4', '\\xec\\x8b\\xa0\\xea\\xb7\\x9c', '\\xec\\x9b\\xb9\\xea\\xb0\\x9c\\xeb\\xb0\\x9c\\xec\\x9e\\x90\\xeb\\xa5\\xbc', '\\xec\\xbf\\xa8\\xeb\\xa6\\xac\\xec\\xa7\\x80\\xec\\xbd\\x94\\xeb\\x84\\x88', '1011', '\\xea\\xb0\\x84\\xec\\x8b\\x9d', '\\xeb\\xaa\\xa8\\xec\\xa7\\x91', '\\xed\\x95\\x9c\\xea\\xb5\\xad\\xea\\xb8\\xb0\\xec\\x88\\xa0\\xea\\xb5\\x90\\xec\\x9c\\xa1\\xeb\\x8c\\x80\\xed\\x95\\x99\\xea\\xb5\\x90', '7\\xeb\\x8c\\x80\\xed\\x95\\x99\\xec\\x83\\x9d\\xed\\x9a\\x8c', '\\xed\\x99\\x88\\xed\\x8e\\x98\\xec\\x9d\\xb4\\xec\\xa7\\x80', '1751', 'Registration', 'Education', '\\xec\\xa0\\x84\\xec\\x9e\\x90\\xec\\x8b\\xa0\\xeb\\xac\\xb8', '\\xed\\x9e\\x98`\\xed\\x9c\\xb4\\xeb\\x8c\\x80\\xed\\x8f\\xb0', '\\xec\\x88\\x98', '\\xeb\\xa1\\x9c\\xea\\xb7\\xb8\\xec\\x9d\\xb8\\xed\\x95\\xa0', 'Case', '\\xec\\x9d\\xb4\\xed\\x9b\\x84', '\\xeb\\x93\\xb1', '2\\xec\\xb0\\xa8\\xeb\\x85\\x84\\xeb\\x8f\\x84', '\\xec\\x9e\\xac\\xeb\\x82\\x9c\\xeb\\xa7\\x9d', '\\xeb\\xa7\\x88\\xec\\x9d\\xb4\\xed\\x81\\xac\\xeb\\xa1\\x9c\\xed\\x94\\x84\\xeb\\xa1\\x9c\\xec\\x84\\xb8\\xec\\x84\\x9c', 'WEBMAIL', '2015\\xeb\\x85\\x84', 'M', 'School', '[\\xec\\xb7\\xa8\\xec\\x97\\x85\\xec\\x84\\xa4\\xeb\\xaa\\x85\\xed\\x9a\\x8c', 'Brighter', '\\xed\\x9c\\xb4\\xeb\\x8c\\x80\\xed\\x8f\\xb0', 'Together', 'Location', '\\xed\\x95\\x99\\xea\\xb5\\x90', 'Factor', 'newsletter', '\\xec\\xa7\\x91\\xed\\x96\\x89\\xeb\\xb6\\x80', 'IT\\xec\\x9c\\xb5\\xed\\x95\\xa9', '\\xec\\x9c\\xa0\\xec\\xa7\\x80\\xeb\\x90\\xa0', 'Life', '1717', 'for', '\\xea\\xbc\\xad', '\\xeb\\xb9\\x84\\xeb\\xb0\\x80\\xeb\\xb2\\x88\\xed\\x98\\xb8', 'Unveil', '\\xea\\xb5\\xad\\xea\\xb0\\x80', 'Facebook', '\\xed\\x9a\\x8c\\xec\\x9b\\x90\\xea\\xb0\\x80\\xec\\x9e\\x85', '0753', '\\xed\\x95\\x99\\xec\\x83\\x9d\\xed\\x9a\\x8c', '7\\xeb\\x85\\x84\\xec\\x95\\x84\\xec\\xa7\\x81\\xec\\x9d\\x80', '\\xed\\x95\\x99\\xea\\xb3\\xbc\\xec\\x82\\xac\\xeb\\xac\\xb4\\xec\\x8b\\xa4', '1529', '\\xec\\xbd\\x94\\xeb\\xa6\\xac\\xec\\x95\\x84', '[\\xec\\x9d\\xb4\\xec\\x8a\\x88\\xeb\\xb6\\x84\\xec\\x84\\x9d`20%\\xec\\x9d\\x98', 'Empowerment', '\\xea\\xb0\\x9c\\xec\\xb5\\x9c', '0105', 'VENTURESQUARE', 'Study', '\\xea\\xb3\\xb5\\xed\\x95\\x99\\xea\\xb5\\x90\\xec\\x9c\\xa1\\xec\\x9d\\xb8\\xec\\xa6\\x9d', 'Youtube', '\\xea\\xb3\\xa0\\xeb\\xa0\\xa4\\xeb\\x8c\\x80\\xed\\x95\\x99\\xea\\xb5\\x90', 'Silicon', '1930', \"'Paradigm'\", '\\xed\\x99\\x8d\\xeb\\xb3\\xb4', '\\xeb\\x8b\\xa4\\xec\\x9d\\x8c', '\\xec\\xa0\\x84\\xec\\x9a\\xa9', '041', '\\xec\\xb6\\xa9\\xec\\xb2\\xad\\xeb\\x82\\xa8\\xeb\\x8f\\x84', '560', '1640', 'of', '20151207', '20151201', 'Back', '20151203', '20151202', '\\xec\\x88\\x98\\xec\\xa4\\x80', 'Computer', '0742', '\\xec\\x9e\\x85\\xec\\xa3\\xbc', 'Spinoff', '1006', '\\xea\\xb3\\xa0\\xec\\xb7\\xa8', '\\xed\\x95\\x84\\xec\\x9a\\x94\\xea\\xb0\\x80', '1002', 'Contents', '\\xea\\xb4\\x80\\xec\\x8b\\xac\\xeb\\xb0\\x9b\\xec\\x9d\\x80', '2\\xed\\x95\\x99\\xea\\xb8\\xb0', '\\xed\\x8a\\xb8\\xeb\\x9e\\x98\\xeb\\xb3\\xbc\\xeb\\xa3\\xa8\\xec\\x85\\x98', 'Schoolfun', '\\xec\\x8b\\x9c\\xec\\x8a\\xa4', '\\xea\\xb8\\xb0\\xec\\x88\\xa0\\xec\\xa7\\x80\\xec\\x9b\\x90', '\\xec\\x86\\x8c\\xec\\x85\\x9c\\xeb\\xaf\\xb8\\xeb\\x94\\x94\\xec\\x96\\xb4\\xec\\xa0\\x84\\xeb\\x9e\\xb5\\xec\\x97\\xb0\\xea\\xb5\\xac\\xec\\x86\\x8c\\xec\\x97\\x90\\xec\\x84\\x9c', 'Decision', '\\xea\\xb2\\x80\\xec\\x83\\x89\\xec\\x96\\xb4', 'IT\\xec\\x9c\\xb5\\xed\\x95\\xa9\\xeb\\xb6\\x84\\xec\\x95\\xbc\\xec\\x97\\x90', '\\xeb\\xa9\\xa4\\xeb\\xb2\\x84\\xec\\x8b\\xad', 'Creative', '\\xeb\\xb2\\xa4\\xec\\xb2\\x98\\xea\\xb8\\xb0\\xec\\x97\\x85', 'Health', '\\xed\\x95\\xa0', 'Online', '\\xeb\\xa8\\xbc', 'Flickr', '\\xec\\x82\\xbc\\xec\\x84\\xb1\\xec\\xa0\\x84\\xec\\x9e\\x90', '\\xec\\x9d\\xb8\\xeb\\xa0\\xa5\\xec\\x96\\x91\\xec\\x84\\xb1\\xec\\x82\\xac\\xec\\x97\\x85', '\\xec\\xa0\\x95\\xeb\\xb3\\xb4\\xeb\\xb3\\xb4\\xec\\x95\\x88\\xea\\xb8\\xb0\\xec\\x88\\xa0', '6\\xec\\xb0\\xa8', 'TEL', '\\xec\\x88\\x98\\xec\\xa4\\x80\\xec\\x9d\\x98', '1731', 'Comic', '\\xc2\\xa9', '\\xec\\x9c\\xa0\\xec\\xb6\\x9c\\xeb\\x90\\xa0', 'Yahoo', '\\xec\\xb0\\xbe\\xea\\xb3\\xa0', 'The', '\\xec\\x8b\\x9c', '2', '\\xec\\xba\\xa0\\xed\\x94\\x84', '1504', 'Suggest', 'Term', '\\xed\\x8f\\xac\\xed\\x8a\\xb8\\xed\\x8f\\xb4\\xeb\\xa6\\xac\\xec\\x98\\xa4', '\\xec\\xbd\\x98\\xed\\x8d\\xbc\\xeb\\x9f\\xb0\\xec\\x8a\\xa4', '20150909', 'KoreaI', '\\xec\\x9d\\xb8\\xeb\\xb2\\xa0\\xec\\x8a\\xa4\\xed\\x8a\\xb8\\xeb\\xa8\\xbc\\xed\\x8a\\xb8\\xeb\\xa1\\x9c\\xeb\\xb6\\x80\\xed\\x84\\xb0', '>', 'ID/PW', '\\xeb\\x8c\\x80\\xed\\x95\\x99\\xec\\x9b\\x90', '\\xea\\xb8\\xb0\\xeb\\x8a\\xa5\\xec\\x9d\\x84', 'Contact', '\\xea\\xb4\\x80\\xea\\xb4\\x91\\xea\\xb0\\x9d', '\\xec\\x97\\x85\\xeb\\xac\\xb4\\xeb\\xa5\\xbc', 'Science', '\\xec\\x9e\\x90\\xec\\x9c\\xa0\\xea\\xb2\\x8c\\xec\\x8b\\x9c\\xed\\x8c\\x90', '\\xea\\xb5\\xac\\xec\\x84\\xb1\\xec\\x9b\\x90\\xec\\x86\\x8c\\xea\\xb0\\x9c', '\\xeb\\x8c\\x80\\xed\\x95\\x9c', '\\xec\\x9b\\x90', '\\xeb\\xa1\\x9c\\xea\\xb7\\xb8\\xec\\x95\\x84\\xec\\x9b\\x83\\xec\\x9d\\x84', '\\xea\\xb0\\x9c\\xec\\x9d\\xb8\\xec\\xa0\\x95\\xeb\\xb3\\xb4\\xea\\xb0\\x80', 'SW\\xeb\\xa9\\xa4\\xeb\\xb2\\x84\\xec\\x8b\\xad', '\\xea\\xb3\\xb5\\xea\\xb3\\xa0', '\\xec\\x95\\x88\\xeb\\x82\\xb4', '\\xea\\xb0\\x95\\xec\\xa2\\x8c', 'Fun', 'Navigation', '20151208', '\\xea\\xb2\\xbd\\xec\\xa7\\x84\\xeb\\x8c\\x80\\xed\\x9a\\x8c', '\\xec\\xb5\\x9c\\xed\\x95\\x98', 'Along', '\\xec\\x86\\x8c\\xed\\x94\\x84\\xed\\x8a\\xb8\\xec\\x9b\\xa8\\xec\\x96\\xb4', '\\xed\\x8c\\xa8\\xeb\\x9f\\xac\\xeb\\x8b\\xa4\\xec\\x9e\\x84', 'rights', 'Google', '\\xed\\x99\\x98\\xec\\x98\\x81\\xed\\x95\\xa9\\xeb\\x8b\\x88\\xeb\\x8b\\xa4', '\\xec\\x8b\\xa4\\xeb\\xac\\xb4\\xed\\x94\\x84\\xeb\\xa1\\x9c\\xea\\xb7\\xb8\\xeb\\x9e\\x98\\xeb\\xb0\\x8d', '\\xed\\x95\\xb4\\xec\\xa3\\xbc\\xec\\x84\\xb8\\xec\\x9a\\x94', '\\xec\\xa0\\x91\\xec\\x86\\x8d\\xeb\\xb6\\x80\\xed\\x84\\xb0\\xeb\\x8a\\x94', '\\xed\\x8b\\xb0\\xec\\xbc\\x93', 'Engineering', '1636', '7\\xeb\\x8c\\x80', '20151204', '1515', 'Close', 'Startups', 'Care', 'RE/CODE', '0820', '1743', 'and', 'CK', '\\xea\\xb0\\x80\\xec\\xa0\\x84\\xeb\\xa6\\xac', '\\xea\\xb0\\x9c\\xeb\\xb0\\x9c\\xec\\x9e\\x90\\xeb\\xa5\\xbc', 'reserved', '0855', '\\xec\\x84\\xb8\\xeb\\xaf\\xb8\\xeb\\x82\\x98', '\\xec\\x8b\\x9c\\xec\\x9e\\xa5', 'IT\\xec\\xa0\\x84\\xeb\\xac\\xb8\\xec\\x9d\\xb8\\xeb\\xa0\\xa5', '\\xea\\xb2\\xbd\\xec\\x9f\\x81\\xeb\\xa0\\xa5', '\\xec\\xbb\\xb4\\xed\\x93\\xa8\\xed\\x84\\xb0\\xea\\xb3\\xb5\\xed\\x95\\x99\\xeb\\xb6\\x80', '\\xed\\x88\\xac', '\\xec\\x8b\\xa0\\xec\\xb2\\xad', '\\xec\\x9d\\xb4\\xec\\x9a\\xa9', 'Linkedin', '\\xec\\xa0\\x9c5\\xec\\xb0\\xa8', '\\xec\\x98\\xa4\\xec\\x8b\\xa0', '\\xec\\x97\\xb4\\xeb\\xa6\\xb0\\xeb\\x8b\\xa4', '\\xec\\x84\\xa0\\xeb\\xb0\\x9c', 'FAX', '2135', '\\xec\\x84\\xb8\\xec\\x9d\\xb4\\xed\\x94\\x84\\xeb\\x84\\xb7', '1055', '[\\xec\\x9d\\xb4\\xec\\x8a\\x88\\xeb\\xb6\\x84\\xec\\x84\\x9d\\xec\\xb2\\xab', 'May', '\\xed\\x8c\\x8c\\xec\\x9d\\xb4\\xec\\x96\\xb8\\xeb\\x84\\xb7\\xec\\xa3\\xbc\\xec\\x97\\x90\\xec\\x84\\x9c', '\\xec\\x9d\\xb8\\xec\\x9e\\xac\\xeb\\xa5\\xbc', '\\xeb\\xa9\\x94\\xec\\xb9\\xb4', '\\xec\\x88\\x9c\\xec\\x9c\\x84', '\\xec\\xa0\\x9c', '\\xeb\\x8b\\xab\\xeb\\x8d\\x94\\xeb\\x9d\\xbc\\xeb\\x8f\\x84', '\\xec\\x97\\x86\\xec\\x8a\\xb5\\xeb\\x8b\\x88\\xeb\\x8b\\xa4', '\\xec\\x8b\\x9c\\xeb\\x8f\\x84', '\\xea\\xb5\\x90\\xec\\x9c\\xa1\\xec\\x9d\\x98', '1118', '\\xea\\xb3\\xb5\\xea\\xb3\\xb5\\xec\\x9e\\xa5\\xec\\x86\\x8c\\xec\\x97\\x90\\xec\\x84\\x9c', '\\xea\\xb2\\xbd\\xec\\x9a\\xb0', 'With', 'Valley', '\\xec\\xbb\\xa8\\xed\\x85\\x90\\xec\\xb8\\xa0', '\\xec\\x95\\x84\\xec\\x9d\\xb4\\xeb\\x94\\x94', '\\xec\\x9c\\xb5\\xed\\x95\\xa9\\xec\\x86\\x8c\\xed\\x94\\x84\\xed\\x8a\\xb8\\xec\\x9b\\xa8\\xec\\x96\\xb4', '\\xec\\x9e\\x90\\xeb\\xa3\\x8c\\xec\\x8b\\xa4', '\\xeb\\xb3\\x91\\xec\\xb2\\x9c\\xeb\\xa9\\xb4', 'STC', '\\xed\\x95\\x99\\xeb\\xb6\\x80', '\\xec\\x9e\\x85\\xed\\x95\\x99', 'IT', 'Capability', 'Future', '\\xec\\x9e\\x88\\xec\\x8a\\xb5\\xeb\\x8b\\x88\\xeb\\x8b\\xa4', '[\\xec\\x9d\\xb4\\xec\\x8a\\x88\\xeb\\xb6\\x84\\xec\\x84\\x9d\\xed\\x95\\x9c\\xea\\xb5\\xad', '\\xec\\x96\\x91\\xec\\x84\\xb1', '\\xec\\x84\\xb8\\xea\\xb3\\x84', '\\xec\\x8a\\xa4\\xec\\xb9\\xb8\\xeb\\x94\\x94\\xec\\x97\\x90\\xeb\\x93\\x80', 'ICT', '\\xeb\\xa1\\x9c\\xea\\xb7\\xb8\\xec\\x9d\\xb8\\xec\\x9d\\xb4', 'All', '20151123', '20151125', '1800', '20151128', '1600', '\\xec\\x8b\\xa0\\xec\\x82\\xb0\\xec\\x97\\x85', '\\xec\\xb2\\x9c\\xec\\x95\\x88\\xec\\x8b\\x9c', '140\\xec\\xa1\\xb0\\xec\\x9b\\x90\\xc2\\xb7\\xea\\xb3\\xa0\\xec\\x9a\\xa9', 'NSHC', 'Are', '\\xec\\xa3\\xbc\\xec\\x97\\x90\\xec\\x8a\\xa4\\xed\\x8b\\xb0\\xec\\x9d\\xb4\\xec\\xa7\\x80\\xec\\x97\\x90\\xec\\x84\\x9c', '\\xea\\xb5\\xad\\xec\\xa0\\x9c\\xec\\xa0\\x81\\xec\\x9d\\xb8', 'Max', '16\\xeb\\x85\\x84\\xec\\x83\\x81', '\\xeb\\xa1\\x9c\\xea\\xb7\\xb8\\xec\\x9d\\xb8']\n"
     ]
    },
    {
     "ename": "AttributeError",
     "evalue": "'dict' object attribute 'keys' is read-only",
     "output_type": "error",
     "traceback": [
      "\u001b[1;31m---------------------------------------------------------------------------\u001b[0m",
      "\u001b[1;31mAttributeError\u001b[0m                            Traceback (most recent call last)",
      "\u001b[1;32m<ipython-input-31-175a22a8a370>\u001b[0m in \u001b[0;36m<module>\u001b[1;34m()\u001b[0m\n\u001b[0;32m     77\u001b[0m \u001b[1;33m\u001b[0m\u001b[0m\n\u001b[0;32m     78\u001b[0m \u001b[1;32mfor\u001b[0m \u001b[0mi\u001b[0m \u001b[1;32min\u001b[0m \u001b[0mdic\u001b[0m\u001b[1;33m.\u001b[0m\u001b[0mkeys\u001b[0m\u001b[1;33m(\u001b[0m\u001b[1;33m)\u001b[0m\u001b[1;33m:\u001b[0m\u001b[1;33m\u001b[0m\u001b[0m\n\u001b[1;32m---> 79\u001b[1;33m     \u001b[0mdic\u001b[0m\u001b[1;33m.\u001b[0m\u001b[0mkeys\u001b[0m \u001b[1;33m=\u001b[0m \u001b[0municode\u001b[0m\u001b[1;33m(\u001b[0m\u001b[0mdic\u001b[0m\u001b[1;33m.\u001b[0m\u001b[0mkeys\u001b[0m\u001b[1;33m(\u001b[0m\u001b[1;33m)\u001b[0m\u001b[1;33m)\u001b[0m\u001b[1;33m\u001b[0m\u001b[0m\n\u001b[0m\u001b[0;32m     80\u001b[0m \u001b[1;33m\u001b[0m\u001b[0m\n\u001b[0;32m     81\u001b[0m \u001b[1;32mprint\u001b[0m \u001b[0md_keys\u001b[0m\u001b[1;33m\u001b[0m\u001b[0m\n",
      "\u001b[1;31mAttributeError\u001b[0m: 'dict' object attribute 'keys' is read-only"
     ]
    }
   ],
   "source": [
    "import urllib\n",
    "\n",
    "soce = urllib.urlopen(\"http://cse.kut.ac.kr/\").read()\n",
    "len_source = len(soce)\n",
    "punctuation = ['.', ',', '?', '!', ':', ';', '\", ''', '-', '(', ')', '{', '}' '[', ']']\n",
    "def iwanttext(source, ss):\n",
    "    len_source = len(source)\n",
    "    i = 0\n",
    "    while (i < len_source):\n",
    "        found = False\n",
    "        if (found != True and source[i] == \"<\" and source[i+1 : i+7].lower() == ss):\n",
    "            found = True;\n",
    "            j = i + 7;\n",
    "            while (True):\n",
    "                if (source[j] == \"<\" and source[j+1] == \"/\" and source[j+2 : j+8].lower() == ss):\n",
    "                    #print \"found - script\"\n",
    "                    source = source[:i] + ' ' + source[j+9:]\n",
    "                    break\n",
    "                j = j + 1\n",
    "                if (j > len_source):\n",
    "                    break\n",
    "            len_source = len(source)\n",
    "        i = i + 1\n",
    "    \n",
    "    return source\n",
    "\n",
    "s1 = \"script\"\n",
    "soce = iwanttext(soce, s1)\n",
    "s2 = \"style\"\n",
    "soce = iwanttext(soce, s2)\n",
    "\n",
    "len_source = len(soce)\n",
    "\n",
    "i = 0\n",
    "while (i < len_source):\n",
    "    found = False\n",
    "    if (found != True and soce[i] == \"<\"):\n",
    "        found = True;\n",
    "        j = i + 1;\n",
    "        while (True):\n",
    "            if (soce[j] == \">\"):\n",
    "                #print \"found - HTML tag\"\n",
    "                soce = soce[:i] + ' ' + soce[j+1:]\n",
    "                break\n",
    "            \n",
    "            j = j + 1\n",
    "            if (j > len_source):\n",
    "                break\n",
    "        len_source = len(soce)\n",
    "    i = i + 1\n",
    "    \n",
    "len_source = len(soce)\n",
    "\n",
    "words = soce.split()\n",
    "\n",
    "for i in range(len(words)):\n",
    "    for j in range(len(punctuation)):\n",
    "        words[i] = words[i].replace(punctuation[j], '')\n",
    "\n",
    "print \"구두점을 제거한 결과\"\n",
    "print \"Total num of plain words:\", len(words)\n",
    "for word in words:\n",
    "    print word,\n",
    "print \n",
    "print \"\\n각 단어들의 출현빈도\"\n",
    "\n",
    "dic = {}\n",
    "for i in words:\n",
    "    if i != '':\n",
    "        dic[i] = words.count(i)\n",
    "print\n",
    "\n",
    "d_keys = dic.keys()\n",
    "d_values = dic.values()\n",
    "d_result = []\n",
    "print d_keys\n",
    "\n",
    "for i in dic.keys():\n",
    "    dic.keys = unicode(dic.keys())\n",
    "    \n",
    "print d_keys"
   ]
  },
  {
   "cell_type": "markdown",
   "metadata": {},
   "source": [
    "    "
   ]
  },
  {
   "cell_type": "markdown",
   "metadata": {},
   "source": [
    "[14번 문제]\n",
    "\n",
    "13번 문제에서 정의한 WebWordsFrequency 클래스를 상속하여 OrderedWebWordsFrequency 클래스를 정의하고 슈퍼클래스에 정의된 getWordsFrequency() 메소드를 오버라이드 하여 단어 출현 빈도를 내림 차순으로 정렬하여 리스트로 출력하시오.\n",
    "•리스트 내의 각 원소는 단어와 빈도를 쌍으로 지니는 튜플이다.\n",
    "\n",
    "•getWordFrequence() 메소드에 reverse 라는 인자를 만들고 true 또는 false를 인자로 받을 수 있도록 한다.\n",
    "◾reverse 인자의 디폴트 값은 false 이며, 기본적으로 내림차순으로 정렬한다.\n",
    "◾reverse 인자에 true를 넣으면 오름차순으로 정렬한다."
   ]
  },
  {
   "cell_type": "code",
   "execution_count": 32,
   "metadata": {
    "collapsed": false
   },
   "outputs": [
    {
     "name": "stdout",
     "output_type": "stream",
     "text": [
      "구두점을 제거한 결과\n",
      "Total num of plain words: 460\n",
      "컴퓨터공학부 Schoolfun  Study and Fun > 로그인 로그인 아이디 비밀번호 로그인 유지 브라우저를 닫더라도 로그인이 계속 유지될 수 있습니다 로그인 유지 기능을 사용할 경우 다음 접속부터는 로그인할 필요가 없습니다 단 게임방 학교 등 공공장소에서 이용 시 개인정보가 유출될 수 있으니 꼭 로그아웃을 해주세요 회원가입 ID/PW 찾기 IT 교육의 글로벌 메카 한국기술교육대학교 컴퓨터공학부 Close 소개 구성원소개 학사안내 입학 학부 대학원 학부광장 자료실 대학원 공학교육인증 학부서비스 Registration 컴퓨터공학부 School of Computer Science and Engineering IT 융합소프트웨어 인력양성사업 CK Creative KoreaI 교육역량강화사업 온라인 컨텐츠 Online Contents for Education Capability Empowerment IT 교육의 글로벌 메카 한국기술교육대학교 컴퓨터공학부 홈페이지에 오신 것을 환영합니다 IT 융합소프트웨어 인력양성사업 글로벌 수준의 IT전문인력 양성 IT융합분야에 대한 국제적인 경쟁력 고취 바로가기 교육역량강화사업 컨텐츠 교육역량강화사업 온라인 컨텐츠를 소개합니다 바로가기 공지사항 [특성화 6차 실무프로그래밍 강좌 신청 안내 20151203 1717 1717 [특성화 2015 IT융합 마이크로프로세서 경진대회 공고 20151202 1529 1529 [특성화 제5차 실무프로그래밍 강좌 신청 안내 20151202 1006 1006 [특성화 2차년도 IT융합 소프트웨어 캠프 모집 공고 20151201 1731 1731 [특성화 IT융합 2학기 Term Project 경진대회 모집 공고 20151201 1722 1722 자유게시판 컴퓨터공학부 제 7대 학생회 PARADIGM 패러다임 간식 20151204 2135 2135 2015 고려대학교 정보보안기술 세미나 개최 20151202 2325 2325 컴퓨터공학부 제 7대학생회 'Paradigm' 집행부 모집 20151130 0105 0105 [취업설명회 2016 삼성전자 소프트웨어 멤버십 홍보  20151125 1011 1011 16년상 삼성전자 SW멤버십 신입회원 선발 20151123 1930 1930 취업게시판 주에스티이지에서 신입 인재를 찾고 있습니다 20151204 1640 1640 STC Corp에서 기술지원 업무를 할 인재를 찾고 있습니다 20151128 1751 1751 파이언넷주에서 개발자를 찾고 있습니다 20151128 1743 1743 소셜미디어전략연구소에서 웹개발자를 찾고 있습니다 20151030 1515 1515 NSHC 20151030 1504 1504 VENTURESQUARE weekly newsletter 20150909 2 20151208 1221 1221 트래볼루션 외국인 관광객 전용 티켓 매니지먼트 시스 20151208 1221 1221 스칸디에듀 쿨리지코너 인베스트먼트로부터 5억 원 투 20151208 1118 1118 구글 2015년 가장 많이 관심받은 검색어 순위 공개 20151208 1111 1111 KICT 스마트미디어센터 신규 입주 벤처기업 모집 20151208 1055 1055 전자신문 [이슈분석`20%의 힘`휴대폰 자급제 시장 열린다 20151207 1800 1800 [이슈분석한국 휴대폰 자급제율 세계 최하 수준 20151207 1800 1800 [이슈분석첫 시도 이후 7년아직은 먼 휴대폰 자급제 20151207 1800 1800 국가 재난망 콘퍼런스 세이프넷 코리아 20151207 1636 1636 IoT·5G 등 ICT 신산업 육성으로 생산유발 140조원·고용 20151207 1551 1551 RE/CODE Economists Suggest Silicon Valley Startups Are 20151208 1002 1002 Max Factor Comic 20151208 0855 0855 The Case for padOS 20151208 0820 0820 Google Life Sciences Alphabet’s Health Care M 20151208 0753 0753 Along With Spinoff Decision Yahoo May Unveil  20151208 0742 0742 Back to Top Leading Together for Brighter Future > Quick Navigation 한국기술교육대학교 홈페이지 한국기술교육대학교 WEBMAIL 한국기술교육대학교 온라인 평생교육원 교육역량강화사업 온라인 컨텐츠 컴퓨터공학부 포트폴리오 > IT 융합소프트웨어 인력양성사업 Campus Location Contact CSE 충청남도 천안시 동남구 병천면 충절로 1600 한국기술교육대학교 컴퓨터공학부 학과사무실 TEL 041 560 1460~1461 FAX 041 560 1462 Facebook Twitter Google Plus Linkedin Youtube Flickr > 31253 충청남도 천안시 동남구 병천면 충절로 1600 가전리 한국기술교육대학교 컴퓨터공학부 Copyright © 2015 All rights reserved\n",
      "\n",
      "각 단어들의 출현빈도\n",
      "\n",
      "['\\xea\\xb2\\x83\\xec\\x9d\\x84', '\\xed\\x99\\x88\\xed\\x8e\\x98\\xec\\x9d\\xb4\\xec\\xa7\\x80\\xec\\x97\\x90', '\\xec\\x86\\x8c\\xea\\xb0\\x9c\\xed\\x95\\xa9\\xeb\\x8b\\x88\\xeb\\x8b\\xa4', '\\xea\\xb8\\x80\\xeb\\xa1\\x9c\\xeb\\xb2\\x8c', '1462', '\\xec\\x9e\\x90\\xea\\xb8\\x89\\xec\\xa0\\x9c', '\\xec\\x98\\xa8\\xeb\\x9d\\xbc\\xec\\x9d\\xb8', '\\xea\\xb3\\x84\\xec\\x86\\x8d', '20151030', '1460~1461', '\\xec\\x82\\xac\\xec\\x9a\\xa9\\xed\\x95\\xa0', '1722', '\\xec\\x9c\\xa0\\xec\\xa7\\x80', '\\xea\\xb5\\x90\\xec\\x9c\\xa1\\xec\\x97\\xad\\xeb\\x9f\\x89\\xea\\xb0\\x95\\xed\\x99\\x94\\xec\\x82\\xac\\xec\\x97\\x85', '\\xec\\x9e\\x88\\xec\\x9c\\xbc\\xeb\\x8b\\x88', '\\xea\\xb3\\xb5\\xec\\xa7\\x80\\xec\\x82\\xac\\xed\\x95\\xad', '\\xea\\xb5\\xac\\xea\\xb8\\x80', '5\\xec\\x96\\xb5', 'IoT\\xc2\\xb75G', '\\xec\\x86\\x8c\\xea\\xb0\\x9c', 'weekly', 'Plus', '1111', '\\xec\\xb0\\xbe\\xea\\xb8\\xb0', '20151130', '\\xeb\\xa7\\xa4\\xeb\\x8b\\x88\\xec\\xa7\\x80\\xeb\\xa8\\xbc\\xed\\x8a\\xb8', '\\xea\\xb2\\x8c\\xec\\x9e\\x84\\xeb\\xb0\\xa9', '2325', 'Campus', 'padOS', '31253', '\\xec\\x8a\\xa4\\xeb\\xa7\\x88\\xed\\x8a\\xb8\\xeb\\xaf\\xb8\\xeb\\x94\\x94\\xec\\x96\\xb4\\xec\\x84\\xbc\\xed\\x84\\xb0', 'Twitter', '\\xed\\x95\\x99\\xec\\x82\\xac\\xec\\x95\\x88\\xeb\\x82\\xb4', '\\xec\\xb7\\xa8\\xec\\x97\\x85\\xea\\xb2\\x8c\\xec\\x8b\\x9c\\xed\\x8c\\x90', 'to', 'Alphabet\\xe2\\x80\\x99s', 'Leading', '2015', '\\xeb\\xb0\\x94\\xeb\\xa1\\x9c\\xea\\xb0\\x80\\xea\\xb8\\xb0', '2016', 'Top', '\\xec\\x8b\\xa0\\xec\\x9e\\x85', '\\xeb\\x8b\\xa8', '\\xeb\\x8f\\x99\\xeb\\x82\\xa8\\xea\\xb5\\xac', '\\xed\\x95\\x99\\xeb\\xb6\\x80\\xea\\xb4\\x91\\xec\\x9e\\xa5', '\\xed\\x8f\\x89\\xec\\x83\\x9d\\xea\\xb5\\x90\\xec\\x9c\\xa1\\xec\\x9b\\x90', '\\xea\\xb3\\xb5\\xea\\xb0\\x9c', 'KICT', '1221', '\\xec\\x9c\\xa1\\xec\\x84\\xb1\\xec\\x9c\\xbc\\xeb\\xa1\\x9c', '\\xec\\x9e\\x90\\xea\\xb8\\x89\\xec\\xa0\\x9c\\xec\\x9c\\xa8', 'CSE', '\\xeb\\xa7\\x8e\\xec\\x9d\\xb4', 'Project', 'Copyright', '[\\xed\\x8a\\xb9\\xec\\x84\\xb1\\xed\\x99\\x94', '\\xec\\xb6\\xa9\\xec\\xa0\\x88\\xeb\\xa1\\x9c', '\\xec\\x83\\x9d\\xec\\x82\\xb0\\xec\\x9c\\xa0\\xeb\\xb0\\x9c', 'Quick', '\\xeb\\xb8\\x8c\\xeb\\x9d\\xbc\\xec\\x9a\\xb0\\xec\\xa0\\x80\\xeb\\xa5\\xbc', '\\xea\\xb0\\x80\\xec\\x9e\\xa5', '\\xec\\xbb\\xa8\\xed\\x85\\x90\\xec\\xb8\\xa0\\xeb\\xa5\\xbc', '\\xec\\x99\\xb8\\xea\\xb5\\xad\\xec\\x9d\\xb8', '1551', '\\xec\\x8b\\xa0\\xec\\x9e\\x85\\xed\\x9a\\x8c\\xec\\x9b\\x90', 'PARADIGM', 'Corp\\xec\\x97\\x90\\xec\\x84\\x9c', 'Economists', 'Sciences', '\\xed\\x95\\x99\\xeb\\xb6\\x80\\xec\\x84\\x9c\\xeb\\xb9\\x84\\xec\\x8a\\xa4', '\\xec\\x8b\\xa0\\xea\\xb7\\x9c', '\\xec\\x9b\\xb9\\xea\\xb0\\x9c\\xeb\\xb0\\x9c\\xec\\x9e\\x90\\xeb\\xa5\\xbc', '\\xec\\xbf\\xa8\\xeb\\xa6\\xac\\xec\\xa7\\x80\\xec\\xbd\\x94\\xeb\\x84\\x88', '1011', '\\xea\\xb0\\x84\\xec\\x8b\\x9d', '\\xeb\\xaa\\xa8\\xec\\xa7\\x91', '\\xed\\x95\\x9c\\xea\\xb5\\xad\\xea\\xb8\\xb0\\xec\\x88\\xa0\\xea\\xb5\\x90\\xec\\x9c\\xa1\\xeb\\x8c\\x80\\xed\\x95\\x99\\xea\\xb5\\x90', '7\\xeb\\x8c\\x80\\xed\\x95\\x99\\xec\\x83\\x9d\\xed\\x9a\\x8c', '\\xed\\x99\\x88\\xed\\x8e\\x98\\xec\\x9d\\xb4\\xec\\xa7\\x80', '1751', 'Registration', 'Education', '\\xec\\xa0\\x84\\xec\\x9e\\x90\\xec\\x8b\\xa0\\xeb\\xac\\xb8', '\\xed\\x9e\\x98`\\xed\\x9c\\xb4\\xeb\\x8c\\x80\\xed\\x8f\\xb0', '\\xec\\x88\\x98', '\\xeb\\xa1\\x9c\\xea\\xb7\\xb8\\xec\\x9d\\xb8\\xed\\x95\\xa0', 'Case', '\\xec\\x9d\\xb4\\xed\\x9b\\x84', '\\xeb\\x93\\xb1', '2\\xec\\xb0\\xa8\\xeb\\x85\\x84\\xeb\\x8f\\x84', '\\xec\\x9e\\xac\\xeb\\x82\\x9c\\xeb\\xa7\\x9d', '\\xeb\\xa7\\x88\\xec\\x9d\\xb4\\xed\\x81\\xac\\xeb\\xa1\\x9c\\xed\\x94\\x84\\xeb\\xa1\\x9c\\xec\\x84\\xb8\\xec\\x84\\x9c', 'WEBMAIL', '2015\\xeb\\x85\\x84', 'M', 'School', '[\\xec\\xb7\\xa8\\xec\\x97\\x85\\xec\\x84\\xa4\\xeb\\xaa\\x85\\xed\\x9a\\x8c', 'Brighter', '\\xed\\x9c\\xb4\\xeb\\x8c\\x80\\xed\\x8f\\xb0', 'Together', 'Location', '\\xed\\x95\\x99\\xea\\xb5\\x90', 'Factor', 'newsletter', '\\xec\\xa7\\x91\\xed\\x96\\x89\\xeb\\xb6\\x80', 'IT\\xec\\x9c\\xb5\\xed\\x95\\xa9', '\\xec\\x9c\\xa0\\xec\\xa7\\x80\\xeb\\x90\\xa0', 'Life', '1717', 'for', '\\xea\\xbc\\xad', '\\xeb\\xb9\\x84\\xeb\\xb0\\x80\\xeb\\xb2\\x88\\xed\\x98\\xb8', 'Unveil', '\\xea\\xb5\\xad\\xea\\xb0\\x80', 'Facebook', '\\xed\\x9a\\x8c\\xec\\x9b\\x90\\xea\\xb0\\x80\\xec\\x9e\\x85', '0753', '\\xed\\x95\\x99\\xec\\x83\\x9d\\xed\\x9a\\x8c', '7\\xeb\\x85\\x84\\xec\\x95\\x84\\xec\\xa7\\x81\\xec\\x9d\\x80', '\\xed\\x95\\x99\\xea\\xb3\\xbc\\xec\\x82\\xac\\xeb\\xac\\xb4\\xec\\x8b\\xa4', '1529', '\\xec\\xbd\\x94\\xeb\\xa6\\xac\\xec\\x95\\x84', '[\\xec\\x9d\\xb4\\xec\\x8a\\x88\\xeb\\xb6\\x84\\xec\\x84\\x9d`20%\\xec\\x9d\\x98', 'Empowerment', '\\xea\\xb0\\x9c\\xec\\xb5\\x9c', '0105', 'VENTURESQUARE', 'Study', '\\xea\\xb3\\xb5\\xed\\x95\\x99\\xea\\xb5\\x90\\xec\\x9c\\xa1\\xec\\x9d\\xb8\\xec\\xa6\\x9d', 'Youtube', '\\xea\\xb3\\xa0\\xeb\\xa0\\xa4\\xeb\\x8c\\x80\\xed\\x95\\x99\\xea\\xb5\\x90', 'Silicon', '1930', \"'Paradigm'\", '\\xed\\x99\\x8d\\xeb\\xb3\\xb4', '\\xeb\\x8b\\xa4\\xec\\x9d\\x8c', '\\xec\\xa0\\x84\\xec\\x9a\\xa9', '041', '\\xec\\xb6\\xa9\\xec\\xb2\\xad\\xeb\\x82\\xa8\\xeb\\x8f\\x84', '560', '1640', 'of', '20151207', '20151201', 'Back', '20151203', '20151202', '\\xec\\x88\\x98\\xec\\xa4\\x80', 'Computer', '0742', '\\xec\\x9e\\x85\\xec\\xa3\\xbc', 'Spinoff', '1006', '\\xea\\xb3\\xa0\\xec\\xb7\\xa8', '\\xed\\x95\\x84\\xec\\x9a\\x94\\xea\\xb0\\x80', '1002', 'Contents', '\\xea\\xb4\\x80\\xec\\x8b\\xac\\xeb\\xb0\\x9b\\xec\\x9d\\x80', '2\\xed\\x95\\x99\\xea\\xb8\\xb0', '\\xed\\x8a\\xb8\\xeb\\x9e\\x98\\xeb\\xb3\\xbc\\xeb\\xa3\\xa8\\xec\\x85\\x98', 'Schoolfun', '\\xec\\x8b\\x9c\\xec\\x8a\\xa4', '\\xea\\xb8\\xb0\\xec\\x88\\xa0\\xec\\xa7\\x80\\xec\\x9b\\x90', '\\xec\\x86\\x8c\\xec\\x85\\x9c\\xeb\\xaf\\xb8\\xeb\\x94\\x94\\xec\\x96\\xb4\\xec\\xa0\\x84\\xeb\\x9e\\xb5\\xec\\x97\\xb0\\xea\\xb5\\xac\\xec\\x86\\x8c\\xec\\x97\\x90\\xec\\x84\\x9c', 'Decision', '\\xea\\xb2\\x80\\xec\\x83\\x89\\xec\\x96\\xb4', 'IT\\xec\\x9c\\xb5\\xed\\x95\\xa9\\xeb\\xb6\\x84\\xec\\x95\\xbc\\xec\\x97\\x90', '\\xeb\\xa9\\xa4\\xeb\\xb2\\x84\\xec\\x8b\\xad', 'Creative', '\\xeb\\xb2\\xa4\\xec\\xb2\\x98\\xea\\xb8\\xb0\\xec\\x97\\x85', 'Health', '\\xed\\x95\\xa0', 'Online', '\\xeb\\xa8\\xbc', 'Flickr', '\\xec\\x82\\xbc\\xec\\x84\\xb1\\xec\\xa0\\x84\\xec\\x9e\\x90', '\\xec\\x9d\\xb8\\xeb\\xa0\\xa5\\xec\\x96\\x91\\xec\\x84\\xb1\\xec\\x82\\xac\\xec\\x97\\x85', '\\xec\\xa0\\x95\\xeb\\xb3\\xb4\\xeb\\xb3\\xb4\\xec\\x95\\x88\\xea\\xb8\\xb0\\xec\\x88\\xa0', '6\\xec\\xb0\\xa8', 'TEL', '\\xec\\x88\\x98\\xec\\xa4\\x80\\xec\\x9d\\x98', '1731', 'Comic', '\\xc2\\xa9', '\\xec\\x9c\\xa0\\xec\\xb6\\x9c\\xeb\\x90\\xa0', 'Yahoo', '\\xec\\xb0\\xbe\\xea\\xb3\\xa0', 'The', '\\xec\\x8b\\x9c', '2', '\\xec\\xba\\xa0\\xed\\x94\\x84', '1504', 'Suggest', 'Term', '\\xed\\x8f\\xac\\xed\\x8a\\xb8\\xed\\x8f\\xb4\\xeb\\xa6\\xac\\xec\\x98\\xa4', '\\xec\\xbd\\x98\\xed\\x8d\\xbc\\xeb\\x9f\\xb0\\xec\\x8a\\xa4', '20150909', 'KoreaI', '\\xec\\x9d\\xb8\\xeb\\xb2\\xa0\\xec\\x8a\\xa4\\xed\\x8a\\xb8\\xeb\\xa8\\xbc\\xed\\x8a\\xb8\\xeb\\xa1\\x9c\\xeb\\xb6\\x80\\xed\\x84\\xb0', '>', 'ID/PW', '\\xeb\\x8c\\x80\\xed\\x95\\x99\\xec\\x9b\\x90', '\\xea\\xb8\\xb0\\xeb\\x8a\\xa5\\xec\\x9d\\x84', 'Contact', '\\xea\\xb4\\x80\\xea\\xb4\\x91\\xea\\xb0\\x9d', '\\xec\\x97\\x85\\xeb\\xac\\xb4\\xeb\\xa5\\xbc', 'Science', '\\xec\\x9e\\x90\\xec\\x9c\\xa0\\xea\\xb2\\x8c\\xec\\x8b\\x9c\\xed\\x8c\\x90', '\\xea\\xb5\\xac\\xec\\x84\\xb1\\xec\\x9b\\x90\\xec\\x86\\x8c\\xea\\xb0\\x9c', '\\xeb\\x8c\\x80\\xed\\x95\\x9c', '\\xec\\x9b\\x90', '\\xeb\\xa1\\x9c\\xea\\xb7\\xb8\\xec\\x95\\x84\\xec\\x9b\\x83\\xec\\x9d\\x84', '\\xea\\xb0\\x9c\\xec\\x9d\\xb8\\xec\\xa0\\x95\\xeb\\xb3\\xb4\\xea\\xb0\\x80', 'SW\\xeb\\xa9\\xa4\\xeb\\xb2\\x84\\xec\\x8b\\xad', '\\xea\\xb3\\xb5\\xea\\xb3\\xa0', '\\xec\\x95\\x88\\xeb\\x82\\xb4', '\\xea\\xb0\\x95\\xec\\xa2\\x8c', 'Fun', 'Navigation', '20151208', '\\xea\\xb2\\xbd\\xec\\xa7\\x84\\xeb\\x8c\\x80\\xed\\x9a\\x8c', '\\xec\\xb5\\x9c\\xed\\x95\\x98', 'Along', '\\xec\\x86\\x8c\\xed\\x94\\x84\\xed\\x8a\\xb8\\xec\\x9b\\xa8\\xec\\x96\\xb4', '\\xed\\x8c\\xa8\\xeb\\x9f\\xac\\xeb\\x8b\\xa4\\xec\\x9e\\x84', 'rights', 'Google', '\\xed\\x99\\x98\\xec\\x98\\x81\\xed\\x95\\xa9\\xeb\\x8b\\x88\\xeb\\x8b\\xa4', '\\xec\\x8b\\xa4\\xeb\\xac\\xb4\\xed\\x94\\x84\\xeb\\xa1\\x9c\\xea\\xb7\\xb8\\xeb\\x9e\\x98\\xeb\\xb0\\x8d', '\\xed\\x95\\xb4\\xec\\xa3\\xbc\\xec\\x84\\xb8\\xec\\x9a\\x94', '\\xec\\xa0\\x91\\xec\\x86\\x8d\\xeb\\xb6\\x80\\xed\\x84\\xb0\\xeb\\x8a\\x94', '\\xed\\x8b\\xb0\\xec\\xbc\\x93', 'Engineering', '1636', '7\\xeb\\x8c\\x80', '20151204', '1515', 'Close', 'Startups', 'Care', 'RE/CODE', '0820', '1743', 'and', 'CK', '\\xea\\xb0\\x80\\xec\\xa0\\x84\\xeb\\xa6\\xac', '\\xea\\xb0\\x9c\\xeb\\xb0\\x9c\\xec\\x9e\\x90\\xeb\\xa5\\xbc', 'reserved', '0855', '\\xec\\x84\\xb8\\xeb\\xaf\\xb8\\xeb\\x82\\x98', '\\xec\\x8b\\x9c\\xec\\x9e\\xa5', 'IT\\xec\\xa0\\x84\\xeb\\xac\\xb8\\xec\\x9d\\xb8\\xeb\\xa0\\xa5', '\\xea\\xb2\\xbd\\xec\\x9f\\x81\\xeb\\xa0\\xa5', '\\xec\\xbb\\xb4\\xed\\x93\\xa8\\xed\\x84\\xb0\\xea\\xb3\\xb5\\xed\\x95\\x99\\xeb\\xb6\\x80', '\\xed\\x88\\xac', '\\xec\\x8b\\xa0\\xec\\xb2\\xad', '\\xec\\x9d\\xb4\\xec\\x9a\\xa9', 'Linkedin', '\\xec\\xa0\\x9c5\\xec\\xb0\\xa8', '\\xec\\x98\\xa4\\xec\\x8b\\xa0', '\\xec\\x97\\xb4\\xeb\\xa6\\xb0\\xeb\\x8b\\xa4', '\\xec\\x84\\xa0\\xeb\\xb0\\x9c', 'FAX', '2135', '\\xec\\x84\\xb8\\xec\\x9d\\xb4\\xed\\x94\\x84\\xeb\\x84\\xb7', '1055', '[\\xec\\x9d\\xb4\\xec\\x8a\\x88\\xeb\\xb6\\x84\\xec\\x84\\x9d\\xec\\xb2\\xab', 'May', '\\xed\\x8c\\x8c\\xec\\x9d\\xb4\\xec\\x96\\xb8\\xeb\\x84\\xb7\\xec\\xa3\\xbc\\xec\\x97\\x90\\xec\\x84\\x9c', '\\xec\\x9d\\xb8\\xec\\x9e\\xac\\xeb\\xa5\\xbc', '\\xeb\\xa9\\x94\\xec\\xb9\\xb4', '\\xec\\x88\\x9c\\xec\\x9c\\x84', '\\xec\\xa0\\x9c', '\\xeb\\x8b\\xab\\xeb\\x8d\\x94\\xeb\\x9d\\xbc\\xeb\\x8f\\x84', '\\xec\\x97\\x86\\xec\\x8a\\xb5\\xeb\\x8b\\x88\\xeb\\x8b\\xa4', '\\xec\\x8b\\x9c\\xeb\\x8f\\x84', '\\xea\\xb5\\x90\\xec\\x9c\\xa1\\xec\\x9d\\x98', '1118', '\\xea\\xb3\\xb5\\xea\\xb3\\xb5\\xec\\x9e\\xa5\\xec\\x86\\x8c\\xec\\x97\\x90\\xec\\x84\\x9c', '\\xea\\xb2\\xbd\\xec\\x9a\\xb0', 'With', 'Valley', '\\xec\\xbb\\xa8\\xed\\x85\\x90\\xec\\xb8\\xa0', '\\xec\\x95\\x84\\xec\\x9d\\xb4\\xeb\\x94\\x94', '\\xec\\x9c\\xb5\\xed\\x95\\xa9\\xec\\x86\\x8c\\xed\\x94\\x84\\xed\\x8a\\xb8\\xec\\x9b\\xa8\\xec\\x96\\xb4', '\\xec\\x9e\\x90\\xeb\\xa3\\x8c\\xec\\x8b\\xa4', '\\xeb\\xb3\\x91\\xec\\xb2\\x9c\\xeb\\xa9\\xb4', 'STC', '\\xed\\x95\\x99\\xeb\\xb6\\x80', '\\xec\\x9e\\x85\\xed\\x95\\x99', 'IT', 'Capability', 'Future', '\\xec\\x9e\\x88\\xec\\x8a\\xb5\\xeb\\x8b\\x88\\xeb\\x8b\\xa4', '[\\xec\\x9d\\xb4\\xec\\x8a\\x88\\xeb\\xb6\\x84\\xec\\x84\\x9d\\xed\\x95\\x9c\\xea\\xb5\\xad', '\\xec\\x96\\x91\\xec\\x84\\xb1', '\\xec\\x84\\xb8\\xea\\xb3\\x84', '\\xec\\x8a\\xa4\\xec\\xb9\\xb8\\xeb\\x94\\x94\\xec\\x97\\x90\\xeb\\x93\\x80', 'ICT', '\\xeb\\xa1\\x9c\\xea\\xb7\\xb8\\xec\\x9d\\xb8\\xec\\x9d\\xb4', 'All', '20151123', '20151125', '1800', '20151128', '1600', '\\xec\\x8b\\xa0\\xec\\x82\\xb0\\xec\\x97\\x85', '\\xec\\xb2\\x9c\\xec\\x95\\x88\\xec\\x8b\\x9c', '140\\xec\\xa1\\xb0\\xec\\x9b\\x90\\xc2\\xb7\\xea\\xb3\\xa0\\xec\\x9a\\xa9', 'NSHC', 'Are', '\\xec\\xa3\\xbc\\xec\\x97\\x90\\xec\\x8a\\xa4\\xed\\x8b\\xb0\\xec\\x9d\\xb4\\xec\\xa7\\x80\\xec\\x97\\x90\\xec\\x84\\x9c', '\\xea\\xb5\\xad\\xec\\xa0\\x9c\\xec\\xa0\\x81\\xec\\x9d\\xb8', 'Max', '16\\xeb\\x85\\x84\\xec\\x83\\x81', '\\xeb\\xa1\\x9c\\xea\\xb7\\xb8\\xec\\x9d\\xb8']\n"
     ]
    },
    {
     "ename": "AttributeError",
     "evalue": "'dict' object attribute 'keys' is read-only",
     "output_type": "error",
     "traceback": [
      "\u001b[1;31m---------------------------------------------------------------------------\u001b[0m",
      "\u001b[1;31mAttributeError\u001b[0m                            Traceback (most recent call last)",
      "\u001b[1;32m<ipython-input-32-175a22a8a370>\u001b[0m in \u001b[0;36m<module>\u001b[1;34m()\u001b[0m\n\u001b[0;32m     77\u001b[0m \u001b[1;33m\u001b[0m\u001b[0m\n\u001b[0;32m     78\u001b[0m \u001b[1;32mfor\u001b[0m \u001b[0mi\u001b[0m \u001b[1;32min\u001b[0m \u001b[0mdic\u001b[0m\u001b[1;33m.\u001b[0m\u001b[0mkeys\u001b[0m\u001b[1;33m(\u001b[0m\u001b[1;33m)\u001b[0m\u001b[1;33m:\u001b[0m\u001b[1;33m\u001b[0m\u001b[0m\n\u001b[1;32m---> 79\u001b[1;33m     \u001b[0mdic\u001b[0m\u001b[1;33m.\u001b[0m\u001b[0mkeys\u001b[0m \u001b[1;33m=\u001b[0m \u001b[0municode\u001b[0m\u001b[1;33m(\u001b[0m\u001b[0mdic\u001b[0m\u001b[1;33m.\u001b[0m\u001b[0mkeys\u001b[0m\u001b[1;33m(\u001b[0m\u001b[1;33m)\u001b[0m\u001b[1;33m)\u001b[0m\u001b[1;33m\u001b[0m\u001b[0m\n\u001b[0m\u001b[0;32m     80\u001b[0m \u001b[1;33m\u001b[0m\u001b[0m\n\u001b[0;32m     81\u001b[0m \u001b[1;32mprint\u001b[0m \u001b[0md_keys\u001b[0m\u001b[1;33m\u001b[0m\u001b[0m\n",
      "\u001b[1;31mAttributeError\u001b[0m: 'dict' object attribute 'keys' is read-only"
     ]
    }
   ],
   "source": [
    "import urllib\n",
    "\n",
    "soce = urllib.urlopen(\"http://cse.kut.ac.kr/\").read()\n",
    "len_source = len(soce)\n",
    "punctuation = ['.', ',', '?', '!', ':', ';', '\", ''', '-', '(', ')', '{', '}' '[', ']']\n",
    "def iwanttext(source, ss):\n",
    "    len_source = len(source)\n",
    "    i = 0\n",
    "    while (i < len_source):\n",
    "        found = False\n",
    "        if (found != True and source[i] == \"<\" and source[i+1 : i+7].lower() == ss):\n",
    "            found = True;\n",
    "            j = i + 7;\n",
    "            while (True):\n",
    "                if (source[j] == \"<\" and source[j+1] == \"/\" and source[j+2 : j+8].lower() == ss):\n",
    "                    #print \"found - script\"\n",
    "                    source = source[:i] + ' ' + source[j+9:]\n",
    "                    break\n",
    "                j = j + 1\n",
    "                if (j > len_source):\n",
    "                    break\n",
    "            len_source = len(source)\n",
    "        i = i + 1\n",
    "    \n",
    "    return source\n",
    "\n",
    "s1 = \"script\"\n",
    "soce = iwanttext(soce, s1)\n",
    "s2 = \"style\"\n",
    "soce = iwanttext(soce, s2)\n",
    "\n",
    "len_source = len(soce)\n",
    "\n",
    "i = 0\n",
    "while (i < len_source):\n",
    "    found = False\n",
    "    if (found != True and soce[i] == \"<\"):\n",
    "        found = True;\n",
    "        j = i + 1;\n",
    "        while (True):\n",
    "            if (soce[j] == \">\"):\n",
    "                #print \"found - HTML tag\"\n",
    "                soce = soce[:i] + ' ' + soce[j+1:]\n",
    "                break\n",
    "            \n",
    "            j = j + 1\n",
    "            if (j > len_source):\n",
    "                break\n",
    "        len_source = len(soce)\n",
    "    i = i + 1\n",
    "    \n",
    "len_source = len(soce)\n",
    "\n",
    "words = soce.split()\n",
    "\n",
    "for i in range(len(words)):\n",
    "    for j in range(len(punctuation)):\n",
    "        words[i] = words[i].replace(punctuation[j], '')\n",
    "\n",
    "print \"구두점을 제거한 결과\"\n",
    "print \"Total num of plain words:\", len(words)\n",
    "for word in words:\n",
    "    print word,\n",
    "print \n",
    "print \"\\n각 단어들의 출현빈도\"\n",
    "\n",
    "dic = {}\n",
    "for i in words:\n",
    "    if i != '':\n",
    "        dic[i] = words.count(i)\n",
    "print\n",
    "\n",
    "d_keys = dic.keys()\n",
    "d_values = dic.values()\n",
    "d_result = []\n",
    "print d_keys\n",
    "\n",
    "for i in dic.keys():\n",
    "    dic.keys = unicode(dic.keys())\n",
    "    \n",
    "print d_keys\n"
   ]
  }
 ],
 "metadata": {
  "kernelspec": {
   "display_name": "Python 2",
   "language": "python",
   "name": "python2"
  },
  "language_info": {
   "codemirror_mode": {
    "name": "ipython",
    "version": 2
   },
   "file_extension": ".py",
   "mimetype": "text/x-python",
   "name": "python",
   "nbconvert_exporter": "python",
   "pygments_lexer": "ipython2",
   "version": "2.7.9"
  }
 },
 "nbformat": 4,
 "nbformat_minor": 0
}
